{
  "nbformat": 4,
  "nbformat_minor": 0,
  "metadata": {
    "colab": {
      "name": "NN-Module1.ipynb",
      "provenance": [],
      "collapsed_sections": []
    },
    "kernelspec": {
      "name": "python3",
      "display_name": "Python 3"
    },
    "language_info": {
      "name": "python"
    }
  },
  "cells": [
    {
      "cell_type": "code",
      "metadata": {
        "id": "BGTCqiKSZJ19"
      },
      "source": [
        "from google.colab import files\n",
        "_ = files.upload()"
      ],
      "execution_count": null,
      "outputs": []
    },
    {
      "cell_type": "markdown",
      "metadata": {
        "id": "WJof6eHMMaKq"
      },
      "source": [
        "**1. Вивести зміст перших 5 рядків з файлу telecom_churn.csv.**"
      ]
    },
    {
      "cell_type": "code",
      "metadata": {
        "id": "Lgr9_BG6Men4"
      },
      "source": [
        "import pandas as pd"
      ],
      "execution_count": null,
      "outputs": []
    },
    {
      "cell_type": "code",
      "metadata": {
        "colab": {
          "base_uri": "https://localhost:8080/",
          "height": 257
        },
        "id": "OOtzB8WaNGVh",
        "outputId": "b6636026-65be-44e1-a3a3-b12e457aa27b"
      },
      "source": [
        "df = pd.read_csv('telecom_churn.csv', sep=',')\n",
        "df.head()"
      ],
      "execution_count": null,
      "outputs": [
        {
          "output_type": "execute_result",
          "data": {
            "text/html": [
              "<div>\n",
              "<style scoped>\n",
              "    .dataframe tbody tr th:only-of-type {\n",
              "        vertical-align: middle;\n",
              "    }\n",
              "\n",
              "    .dataframe tbody tr th {\n",
              "        vertical-align: top;\n",
              "    }\n",
              "\n",
              "    .dataframe thead th {\n",
              "        text-align: right;\n",
              "    }\n",
              "</style>\n",
              "<table border=\"1\" class=\"dataframe\">\n",
              "  <thead>\n",
              "    <tr style=\"text-align: right;\">\n",
              "      <th></th>\n",
              "      <th>State</th>\n",
              "      <th>Account length</th>\n",
              "      <th>Area code</th>\n",
              "      <th>International plan</th>\n",
              "      <th>Voice mail plan</th>\n",
              "      <th>Number vmail messages</th>\n",
              "      <th>Total day minutes</th>\n",
              "      <th>Total day calls</th>\n",
              "      <th>Total day charge</th>\n",
              "      <th>Total eve minutes</th>\n",
              "      <th>Total eve calls</th>\n",
              "      <th>Total eve charge</th>\n",
              "      <th>Total night minutes</th>\n",
              "      <th>Total night calls</th>\n",
              "      <th>Total night charge</th>\n",
              "      <th>Total intl minutes</th>\n",
              "      <th>Total intl calls</th>\n",
              "      <th>Total intl charge</th>\n",
              "      <th>Customer service calls</th>\n",
              "      <th>Churn</th>\n",
              "    </tr>\n",
              "  </thead>\n",
              "  <tbody>\n",
              "    <tr>\n",
              "      <th>0</th>\n",
              "      <td>KS</td>\n",
              "      <td>128</td>\n",
              "      <td>415</td>\n",
              "      <td>No</td>\n",
              "      <td>Yes</td>\n",
              "      <td>25</td>\n",
              "      <td>265.1</td>\n",
              "      <td>110</td>\n",
              "      <td>45.07</td>\n",
              "      <td>197.4</td>\n",
              "      <td>99</td>\n",
              "      <td>16.78</td>\n",
              "      <td>244.7</td>\n",
              "      <td>91</td>\n",
              "      <td>11.01</td>\n",
              "      <td>10.0</td>\n",
              "      <td>3</td>\n",
              "      <td>2.70</td>\n",
              "      <td>1</td>\n",
              "      <td>False</td>\n",
              "    </tr>\n",
              "    <tr>\n",
              "      <th>1</th>\n",
              "      <td>OH</td>\n",
              "      <td>107</td>\n",
              "      <td>415</td>\n",
              "      <td>No</td>\n",
              "      <td>Yes</td>\n",
              "      <td>26</td>\n",
              "      <td>161.6</td>\n",
              "      <td>123</td>\n",
              "      <td>27.47</td>\n",
              "      <td>195.5</td>\n",
              "      <td>103</td>\n",
              "      <td>16.62</td>\n",
              "      <td>254.4</td>\n",
              "      <td>103</td>\n",
              "      <td>11.45</td>\n",
              "      <td>13.7</td>\n",
              "      <td>3</td>\n",
              "      <td>3.70</td>\n",
              "      <td>1</td>\n",
              "      <td>False</td>\n",
              "    </tr>\n",
              "    <tr>\n",
              "      <th>2</th>\n",
              "      <td>NJ</td>\n",
              "      <td>137</td>\n",
              "      <td>415</td>\n",
              "      <td>No</td>\n",
              "      <td>No</td>\n",
              "      <td>0</td>\n",
              "      <td>243.4</td>\n",
              "      <td>114</td>\n",
              "      <td>41.38</td>\n",
              "      <td>121.2</td>\n",
              "      <td>110</td>\n",
              "      <td>10.30</td>\n",
              "      <td>162.6</td>\n",
              "      <td>104</td>\n",
              "      <td>7.32</td>\n",
              "      <td>12.2</td>\n",
              "      <td>5</td>\n",
              "      <td>3.29</td>\n",
              "      <td>0</td>\n",
              "      <td>False</td>\n",
              "    </tr>\n",
              "    <tr>\n",
              "      <th>3</th>\n",
              "      <td>OH</td>\n",
              "      <td>84</td>\n",
              "      <td>408</td>\n",
              "      <td>Yes</td>\n",
              "      <td>No</td>\n",
              "      <td>0</td>\n",
              "      <td>299.4</td>\n",
              "      <td>71</td>\n",
              "      <td>50.90</td>\n",
              "      <td>61.9</td>\n",
              "      <td>88</td>\n",
              "      <td>5.26</td>\n",
              "      <td>196.9</td>\n",
              "      <td>89</td>\n",
              "      <td>8.86</td>\n",
              "      <td>6.6</td>\n",
              "      <td>7</td>\n",
              "      <td>1.78</td>\n",
              "      <td>2</td>\n",
              "      <td>False</td>\n",
              "    </tr>\n",
              "    <tr>\n",
              "      <th>4</th>\n",
              "      <td>OK</td>\n",
              "      <td>75</td>\n",
              "      <td>415</td>\n",
              "      <td>Yes</td>\n",
              "      <td>No</td>\n",
              "      <td>0</td>\n",
              "      <td>166.7</td>\n",
              "      <td>113</td>\n",
              "      <td>28.34</td>\n",
              "      <td>148.3</td>\n",
              "      <td>122</td>\n",
              "      <td>12.61</td>\n",
              "      <td>186.9</td>\n",
              "      <td>121</td>\n",
              "      <td>8.41</td>\n",
              "      <td>10.1</td>\n",
              "      <td>3</td>\n",
              "      <td>2.73</td>\n",
              "      <td>3</td>\n",
              "      <td>False</td>\n",
              "    </tr>\n",
              "  </tbody>\n",
              "</table>\n",
              "</div>"
            ],
            "text/plain": [
              "  State  Account length  ...  Customer service calls  Churn\n",
              "0    KS             128  ...                       1  False\n",
              "1    OH             107  ...                       1  False\n",
              "2    NJ             137  ...                       0  False\n",
              "3    OH              84  ...                       2  False\n",
              "4    OK              75  ...                       3  False\n",
              "\n",
              "[5 rows x 20 columns]"
            ]
          },
          "metadata": {},
          "execution_count": 46
        }
      ]
    },
    {
      "cell_type": "markdown",
      "metadata": {
        "id": "DxiIGogSNVCy"
      },
      "source": [
        "**2. Вивести розмір даних (кількість рядків і стовбців), назву ознак та їх типи. Чи є пропуски даний у таблиці?**"
      ]
    },
    {
      "cell_type": "code",
      "metadata": {
        "colab": {
          "base_uri": "https://localhost:8080/"
        },
        "id": "fKgL3kLNNb4I",
        "outputId": "7a71182f-af57-488d-ddf9-47b27a4ea72c"
      },
      "source": [
        "df.shape"
      ],
      "execution_count": null,
      "outputs": [
        {
          "output_type": "execute_result",
          "data": {
            "text/plain": [
              "(3333, 20)"
            ]
          },
          "metadata": {},
          "execution_count": 47
        }
      ]
    },
    {
      "cell_type": "code",
      "metadata": {
        "colab": {
          "base_uri": "https://localhost:8080/"
        },
        "id": "Pro5AYizN944",
        "outputId": "3f235f0f-1390-496f-c3b5-d52e7f0ee99d"
      },
      "source": [
        "df.info()"
      ],
      "execution_count": null,
      "outputs": [
        {
          "output_type": "stream",
          "name": "stdout",
          "text": [
            "<class 'pandas.core.frame.DataFrame'>\n",
            "RangeIndex: 3333 entries, 0 to 3332\n",
            "Data columns (total 20 columns):\n",
            " #   Column                  Non-Null Count  Dtype  \n",
            "---  ------                  --------------  -----  \n",
            " 0   State                   3333 non-null   object \n",
            " 1   Account length          3333 non-null   int64  \n",
            " 2   Area code               3333 non-null   int64  \n",
            " 3   International plan      3333 non-null   object \n",
            " 4   Voice mail plan         3333 non-null   object \n",
            " 5   Number vmail messages   3333 non-null   int64  \n",
            " 6   Total day minutes       3333 non-null   float64\n",
            " 7   Total day calls         3333 non-null   int64  \n",
            " 8   Total day charge        3333 non-null   float64\n",
            " 9   Total eve minutes       3333 non-null   float64\n",
            " 10  Total eve calls         3333 non-null   int64  \n",
            " 11  Total eve charge        3333 non-null   float64\n",
            " 12  Total night minutes     3333 non-null   float64\n",
            " 13  Total night calls       3333 non-null   int64  \n",
            " 14  Total night charge      3333 non-null   float64\n",
            " 15  Total intl minutes      3333 non-null   float64\n",
            " 16  Total intl calls        3333 non-null   int64  \n",
            " 17  Total intl charge       3333 non-null   float64\n",
            " 18  Customer service calls  3333 non-null   int64  \n",
            " 19  Churn                   3333 non-null   bool   \n",
            "dtypes: bool(1), float64(8), int64(8), object(3)\n",
            "memory usage: 498.1+ KB\n"
          ]
        }
      ]
    },
    {
      "cell_type": "markdown",
      "metadata": {
        "id": "9JWTLrOzOwb6"
      },
      "source": [
        "Бачимо, що кожному стовбчику відповідає 3333 непорожніх значень, рівно стільки, скільки є рядків у таблиці. А отже, пропусків у таблиці немає. Перевіримо також програмно."
      ]
    },
    {
      "cell_type": "code",
      "metadata": {
        "colab": {
          "base_uri": "https://localhost:8080/"
        },
        "id": "-pzlQRuzco9S",
        "outputId": "c37e7c39-eafb-4d4e-ba9c-7a6a894d1f3d"
      },
      "source": [
        "df.isnull().values.any()"
      ],
      "execution_count": null,
      "outputs": [
        {
          "output_type": "execute_result",
          "data": {
            "text/plain": [
              "False"
            ]
          },
          "metadata": {},
          "execution_count": 49
        }
      ]
    },
    {
      "cell_type": "markdown",
      "metadata": {
        "id": "2Gpz4k2sPdbU"
      },
      "source": [
        "**3. Змінити тип даних для стовпчика Churn на int64.**"
      ]
    },
    {
      "cell_type": "code",
      "metadata": {
        "colab": {
          "base_uri": "https://localhost:8080/"
        },
        "id": "KXqisKp5Pjbm",
        "outputId": "d7258b49-f265-4d1c-e7e1-e15300a135ed"
      },
      "source": [
        "df['Churn'] = df.Churn.astype('int64', errors='ignore')\n",
        "print(df.Churn.dtype)"
      ],
      "execution_count": null,
      "outputs": [
        {
          "output_type": "stream",
          "name": "stdout",
          "text": [
            "int64\n"
          ]
        }
      ]
    },
    {
      "cell_type": "markdown",
      "metadata": {
        "id": "Ar6ak2U6QONW"
      },
      "source": [
        "**4. Виконати сортування по Account length за спаданням.**"
      ]
    },
    {
      "cell_type": "code",
      "metadata": {
        "colab": {
          "base_uri": "https://localhost:8080/",
          "height": 470
        },
        "id": "BxKlESXtQTcc",
        "outputId": "ef4c2442-588e-4fef-e639-05306e8047e1"
      },
      "source": [
        "df.sort_values(by='Account length', ascending=False)"
      ],
      "execution_count": null,
      "outputs": [
        {
          "output_type": "execute_result",
          "data": {
            "text/html": [
              "<div>\n",
              "<style scoped>\n",
              "    .dataframe tbody tr th:only-of-type {\n",
              "        vertical-align: middle;\n",
              "    }\n",
              "\n",
              "    .dataframe tbody tr th {\n",
              "        vertical-align: top;\n",
              "    }\n",
              "\n",
              "    .dataframe thead th {\n",
              "        text-align: right;\n",
              "    }\n",
              "</style>\n",
              "<table border=\"1\" class=\"dataframe\">\n",
              "  <thead>\n",
              "    <tr style=\"text-align: right;\">\n",
              "      <th></th>\n",
              "      <th>State</th>\n",
              "      <th>Account length</th>\n",
              "      <th>Area code</th>\n",
              "      <th>International plan</th>\n",
              "      <th>Voice mail plan</th>\n",
              "      <th>Number vmail messages</th>\n",
              "      <th>Total day minutes</th>\n",
              "      <th>Total day calls</th>\n",
              "      <th>Total day charge</th>\n",
              "      <th>Total eve minutes</th>\n",
              "      <th>Total eve calls</th>\n",
              "      <th>Total eve charge</th>\n",
              "      <th>Total night minutes</th>\n",
              "      <th>Total night calls</th>\n",
              "      <th>Total night charge</th>\n",
              "      <th>Total intl minutes</th>\n",
              "      <th>Total intl calls</th>\n",
              "      <th>Total intl charge</th>\n",
              "      <th>Customer service calls</th>\n",
              "      <th>Churn</th>\n",
              "    </tr>\n",
              "  </thead>\n",
              "  <tbody>\n",
              "    <tr>\n",
              "      <th>817</th>\n",
              "      <td>UT</td>\n",
              "      <td>243</td>\n",
              "      <td>510</td>\n",
              "      <td>No</td>\n",
              "      <td>No</td>\n",
              "      <td>0</td>\n",
              "      <td>95.5</td>\n",
              "      <td>92</td>\n",
              "      <td>16.24</td>\n",
              "      <td>163.7</td>\n",
              "      <td>63</td>\n",
              "      <td>13.91</td>\n",
              "      <td>264.2</td>\n",
              "      <td>118</td>\n",
              "      <td>11.89</td>\n",
              "      <td>6.6</td>\n",
              "      <td>6</td>\n",
              "      <td>1.78</td>\n",
              "      <td>2</td>\n",
              "      <td>0</td>\n",
              "    </tr>\n",
              "    <tr>\n",
              "      <th>1408</th>\n",
              "      <td>NM</td>\n",
              "      <td>232</td>\n",
              "      <td>408</td>\n",
              "      <td>No</td>\n",
              "      <td>No</td>\n",
              "      <td>0</td>\n",
              "      <td>165.6</td>\n",
              "      <td>104</td>\n",
              "      <td>28.15</td>\n",
              "      <td>195.9</td>\n",
              "      <td>115</td>\n",
              "      <td>16.65</td>\n",
              "      <td>118.3</td>\n",
              "      <td>77</td>\n",
              "      <td>5.32</td>\n",
              "      <td>11.8</td>\n",
              "      <td>3</td>\n",
              "      <td>3.19</td>\n",
              "      <td>1</td>\n",
              "      <td>0</td>\n",
              "    </tr>\n",
              "    <tr>\n",
              "      <th>1751</th>\n",
              "      <td>WY</td>\n",
              "      <td>225</td>\n",
              "      <td>415</td>\n",
              "      <td>No</td>\n",
              "      <td>No</td>\n",
              "      <td>0</td>\n",
              "      <td>182.7</td>\n",
              "      <td>142</td>\n",
              "      <td>31.06</td>\n",
              "      <td>246.5</td>\n",
              "      <td>63</td>\n",
              "      <td>20.95</td>\n",
              "      <td>218.0</td>\n",
              "      <td>103</td>\n",
              "      <td>9.81</td>\n",
              "      <td>8.8</td>\n",
              "      <td>2</td>\n",
              "      <td>2.38</td>\n",
              "      <td>1</td>\n",
              "      <td>0</td>\n",
              "    </tr>\n",
              "    <tr>\n",
              "      <th>1551</th>\n",
              "      <td>MI</td>\n",
              "      <td>225</td>\n",
              "      <td>415</td>\n",
              "      <td>No</td>\n",
              "      <td>No</td>\n",
              "      <td>0</td>\n",
              "      <td>165.4</td>\n",
              "      <td>106</td>\n",
              "      <td>28.12</td>\n",
              "      <td>273.7</td>\n",
              "      <td>109</td>\n",
              "      <td>23.26</td>\n",
              "      <td>210.0</td>\n",
              "      <td>93</td>\n",
              "      <td>9.45</td>\n",
              "      <td>8.7</td>\n",
              "      <td>3</td>\n",
              "      <td>2.35</td>\n",
              "      <td>0</td>\n",
              "      <td>1</td>\n",
              "    </tr>\n",
              "    <tr>\n",
              "      <th>1886</th>\n",
              "      <td>ID</td>\n",
              "      <td>224</td>\n",
              "      <td>510</td>\n",
              "      <td>No</td>\n",
              "      <td>No</td>\n",
              "      <td>0</td>\n",
              "      <td>111.4</td>\n",
              "      <td>133</td>\n",
              "      <td>18.94</td>\n",
              "      <td>175.0</td>\n",
              "      <td>66</td>\n",
              "      <td>14.88</td>\n",
              "      <td>217.2</td>\n",
              "      <td>106</td>\n",
              "      <td>9.77</td>\n",
              "      <td>5.5</td>\n",
              "      <td>6</td>\n",
              "      <td>1.49</td>\n",
              "      <td>3</td>\n",
              "      <td>0</td>\n",
              "    </tr>\n",
              "    <tr>\n",
              "      <th>...</th>\n",
              "      <td>...</td>\n",
              "      <td>...</td>\n",
              "      <td>...</td>\n",
              "      <td>...</td>\n",
              "      <td>...</td>\n",
              "      <td>...</td>\n",
              "      <td>...</td>\n",
              "      <td>...</td>\n",
              "      <td>...</td>\n",
              "      <td>...</td>\n",
              "      <td>...</td>\n",
              "      <td>...</td>\n",
              "      <td>...</td>\n",
              "      <td>...</td>\n",
              "      <td>...</td>\n",
              "      <td>...</td>\n",
              "      <td>...</td>\n",
              "      <td>...</td>\n",
              "      <td>...</td>\n",
              "      <td>...</td>\n",
              "    </tr>\n",
              "    <tr>\n",
              "      <th>1838</th>\n",
              "      <td>IA</td>\n",
              "      <td>1</td>\n",
              "      <td>408</td>\n",
              "      <td>No</td>\n",
              "      <td>Yes</td>\n",
              "      <td>26</td>\n",
              "      <td>208.0</td>\n",
              "      <td>115</td>\n",
              "      <td>35.36</td>\n",
              "      <td>185.0</td>\n",
              "      <td>113</td>\n",
              "      <td>15.73</td>\n",
              "      <td>177.7</td>\n",
              "      <td>144</td>\n",
              "      <td>8.00</td>\n",
              "      <td>8.1</td>\n",
              "      <td>9</td>\n",
              "      <td>2.19</td>\n",
              "      <td>1</td>\n",
              "      <td>0</td>\n",
              "    </tr>\n",
              "    <tr>\n",
              "      <th>2879</th>\n",
              "      <td>SC</td>\n",
              "      <td>1</td>\n",
              "      <td>415</td>\n",
              "      <td>No</td>\n",
              "      <td>Yes</td>\n",
              "      <td>26</td>\n",
              "      <td>146.6</td>\n",
              "      <td>68</td>\n",
              "      <td>24.92</td>\n",
              "      <td>172.8</td>\n",
              "      <td>67</td>\n",
              "      <td>14.69</td>\n",
              "      <td>173.8</td>\n",
              "      <td>113</td>\n",
              "      <td>7.82</td>\n",
              "      <td>10.0</td>\n",
              "      <td>2</td>\n",
              "      <td>2.70</td>\n",
              "      <td>1</td>\n",
              "      <td>0</td>\n",
              "    </tr>\n",
              "    <tr>\n",
              "      <th>923</th>\n",
              "      <td>MS</td>\n",
              "      <td>1</td>\n",
              "      <td>415</td>\n",
              "      <td>No</td>\n",
              "      <td>No</td>\n",
              "      <td>0</td>\n",
              "      <td>144.8</td>\n",
              "      <td>107</td>\n",
              "      <td>24.62</td>\n",
              "      <td>112.5</td>\n",
              "      <td>66</td>\n",
              "      <td>9.56</td>\n",
              "      <td>218.7</td>\n",
              "      <td>79</td>\n",
              "      <td>9.84</td>\n",
              "      <td>13.8</td>\n",
              "      <td>3</td>\n",
              "      <td>3.73</td>\n",
              "      <td>1</td>\n",
              "      <td>0</td>\n",
              "    </tr>\n",
              "    <tr>\n",
              "      <th>1409</th>\n",
              "      <td>NJ</td>\n",
              "      <td>1</td>\n",
              "      <td>415</td>\n",
              "      <td>No</td>\n",
              "      <td>Yes</td>\n",
              "      <td>30</td>\n",
              "      <td>183.1</td>\n",
              "      <td>95</td>\n",
              "      <td>31.13</td>\n",
              "      <td>232.6</td>\n",
              "      <td>110</td>\n",
              "      <td>19.77</td>\n",
              "      <td>248.3</td>\n",
              "      <td>110</td>\n",
              "      <td>11.17</td>\n",
              "      <td>8.4</td>\n",
              "      <td>2</td>\n",
              "      <td>2.27</td>\n",
              "      <td>0</td>\n",
              "      <td>0</td>\n",
              "    </tr>\n",
              "    <tr>\n",
              "      <th>2475</th>\n",
              "      <td>AK</td>\n",
              "      <td>1</td>\n",
              "      <td>408</td>\n",
              "      <td>No</td>\n",
              "      <td>No</td>\n",
              "      <td>0</td>\n",
              "      <td>175.2</td>\n",
              "      <td>74</td>\n",
              "      <td>29.78</td>\n",
              "      <td>151.7</td>\n",
              "      <td>79</td>\n",
              "      <td>12.89</td>\n",
              "      <td>230.5</td>\n",
              "      <td>109</td>\n",
              "      <td>10.37</td>\n",
              "      <td>5.3</td>\n",
              "      <td>3</td>\n",
              "      <td>1.43</td>\n",
              "      <td>1</td>\n",
              "      <td>0</td>\n",
              "    </tr>\n",
              "  </tbody>\n",
              "</table>\n",
              "<p>3333 rows × 20 columns</p>\n",
              "</div>"
            ],
            "text/plain": [
              "     State  Account length  ...  Customer service calls Churn\n",
              "817     UT             243  ...                       2     0\n",
              "1408    NM             232  ...                       1     0\n",
              "1751    WY             225  ...                       1     0\n",
              "1551    MI             225  ...                       0     1\n",
              "1886    ID             224  ...                       3     0\n",
              "...    ...             ...  ...                     ...   ...\n",
              "1838    IA               1  ...                       1     0\n",
              "2879    SC               1  ...                       1     0\n",
              "923     MS               1  ...                       1     0\n",
              "1409    NJ               1  ...                       0     0\n",
              "2475    AK               1  ...                       1     0\n",
              "\n",
              "[3333 rows x 20 columns]"
            ]
          },
          "metadata": {},
          "execution_count": 51
        }
      ]
    },
    {
      "cell_type": "markdown",
      "metadata": {
        "id": "UXtFfEdXQ1fM"
      },
      "source": [
        "**5. Надати відповідь на питання: яка максимальна довжина міжнародних дзвінків серед лояльних користувачів (Churn == 0), що не користуються послугою міжнародного роумінгу ('International plan' == 'No')?**"
      ]
    },
    {
      "cell_type": "code",
      "metadata": {
        "colab": {
          "base_uri": "https://localhost:8080/"
        },
        "id": "NrTufUNKQ_lT",
        "outputId": "fabe0757-4ad7-45f9-b917-ea28fd51473c"
      },
      "source": [
        "df[(df['Churn'] == 0) & (df['International plan'] == 'No')]['Total intl minutes'].max()"
      ],
      "execution_count": null,
      "outputs": [
        {
          "output_type": "execute_result",
          "data": {
            "text/plain": [
              "18.9"
            ]
          },
          "metadata": {},
          "execution_count": 52
        }
      ]
    },
    {
      "cell_type": "markdown",
      "metadata": {
        "id": "M3ZFx6odR-xG"
      },
      "source": [
        "**6. Порахувати загальну кількість дзвінків (Total day charge, Total eve charge, Total night charge) для всіх користувачів. Результат занести у новий стовпчик Total charge.**"
      ]
    },
    {
      "cell_type": "code",
      "metadata": {
        "colab": {
          "base_uri": "https://localhost:8080/",
          "height": 203
        },
        "id": "Nk0IqPmgSI30",
        "outputId": "71a3dd78-1a79-47d6-df52-6973f180fdd1"
      },
      "source": [
        "new_column = []\n",
        "for index, row in df.iterrows():\n",
        "    new_column.append(row['Total day charge'] + row['Total eve charge'] + \n",
        "                      row['Total night charge'])\n",
        "df['Total charge'] = new_column\n",
        "df[['Total day charge', 'Total eve charge', 'Total night charge', \n",
        "   'Total charge']].head()"
      ],
      "execution_count": null,
      "outputs": [
        {
          "output_type": "execute_result",
          "data": {
            "text/html": [
              "<div>\n",
              "<style scoped>\n",
              "    .dataframe tbody tr th:only-of-type {\n",
              "        vertical-align: middle;\n",
              "    }\n",
              "\n",
              "    .dataframe tbody tr th {\n",
              "        vertical-align: top;\n",
              "    }\n",
              "\n",
              "    .dataframe thead th {\n",
              "        text-align: right;\n",
              "    }\n",
              "</style>\n",
              "<table border=\"1\" class=\"dataframe\">\n",
              "  <thead>\n",
              "    <tr style=\"text-align: right;\">\n",
              "      <th></th>\n",
              "      <th>Total day charge</th>\n",
              "      <th>Total eve charge</th>\n",
              "      <th>Total night charge</th>\n",
              "      <th>Total charge</th>\n",
              "    </tr>\n",
              "  </thead>\n",
              "  <tbody>\n",
              "    <tr>\n",
              "      <th>0</th>\n",
              "      <td>45.07</td>\n",
              "      <td>16.78</td>\n",
              "      <td>11.01</td>\n",
              "      <td>72.86</td>\n",
              "    </tr>\n",
              "    <tr>\n",
              "      <th>1</th>\n",
              "      <td>27.47</td>\n",
              "      <td>16.62</td>\n",
              "      <td>11.45</td>\n",
              "      <td>55.54</td>\n",
              "    </tr>\n",
              "    <tr>\n",
              "      <th>2</th>\n",
              "      <td>41.38</td>\n",
              "      <td>10.30</td>\n",
              "      <td>7.32</td>\n",
              "      <td>59.00</td>\n",
              "    </tr>\n",
              "    <tr>\n",
              "      <th>3</th>\n",
              "      <td>50.90</td>\n",
              "      <td>5.26</td>\n",
              "      <td>8.86</td>\n",
              "      <td>65.02</td>\n",
              "    </tr>\n",
              "    <tr>\n",
              "      <th>4</th>\n",
              "      <td>28.34</td>\n",
              "      <td>12.61</td>\n",
              "      <td>8.41</td>\n",
              "      <td>49.36</td>\n",
              "    </tr>\n",
              "  </tbody>\n",
              "</table>\n",
              "</div>"
            ],
            "text/plain": [
              "   Total day charge  Total eve charge  Total night charge  Total charge\n",
              "0             45.07             16.78               11.01         72.86\n",
              "1             27.47             16.62               11.45         55.54\n",
              "2             41.38             10.30                7.32         59.00\n",
              "3             50.90              5.26                8.86         65.02\n",
              "4             28.34             12.61                8.41         49.36"
            ]
          },
          "metadata": {},
          "execution_count": 53
        }
      ]
    },
    {
      "cell_type": "markdown",
      "metadata": {
        "id": "vSE-f2yNU_Ap"
      },
      "source": [
        "**7. Зробити графічну інтерпретацію попереднього пункту для 10 користувачів за максимальними показниками, що формують Total charge. Значення Total day charge, Total eve charge, Total night charge, Total charge повинні відображатися графічно.**"
      ]
    },
    {
      "cell_type": "code",
      "metadata": {
        "colab": {
          "base_uri": "https://localhost:8080/",
          "height": 295
        },
        "id": "M-AQJ_4JZgAI",
        "outputId": "64b62829-9084-429b-c732-1abc17f166e6"
      },
      "source": [
        "g = df[['Total day charge', 'Total eve charge', 'Total night charge', \n",
        "   'Total charge']].sort_values(by='Total charge', ascending=False)\\\n",
        "   .head(10).plot.bar()\n",
        "named = g.set(xlabel='user id', ylabel='count')"
      ],
      "execution_count": null,
      "outputs": [
        {
          "output_type": "display_data",
          "data": {
            "image/png": "[encoded data removed]",
            "text/plain": [
              "<Figure size 432x288 with 1 Axes>"
            ]
          },
          "metadata": {
            "needs_background": "light"
          }
        }
      ]
    },
    {
      "cell_type": "markdown",
      "metadata": {
        "id": "4wwAuD--WrgO"
      },
      "source": [
        "**8. Побудувати і вивести графічну інтерпретацію багатошарової моделі персептрона для бінарної класифікації. Модель повинна мати 8 входів, 4 прихованих шарів з 15, 10 15 та 20 нейронами і вихідний шар з 1 виходом. Функції лінійної активації використовуються в кожному прихованому шарі, а функція активації сигмоїда використовується в вихідному шарі для двійковій класифікації.**"
      ]
    },
    {
      "cell_type": "code",
      "metadata": {
        "id": "ippZVDNaW3y6"
      },
      "source": [
        "import keras\n",
        "from keras.utils.vis_utils import plot_model\n",
        "from keras.models import Model\n",
        "from keras.layers import Input, Dense"
      ],
      "execution_count": null,
      "outputs": []
    },
    {
      "cell_type": "code",
      "metadata": {
        "id": "u8UP0RnhXNR5"
      },
      "source": [
        "visible = Input(shape=(8,))\n",
        "hidden1 = Dense(15, activation='linear')(visible)\n",
        "hidden2 = Dense(10, activation='linear')(hidden1)\n",
        "hidden3 = Dense(15, activation='linear')(hidden2)\n",
        "hidden4 = Dense(20, activation='linear')(hidden3)\n",
        "output = Dense(1, activation='sigmoid')(hidden4)\n",
        "model = Model(inputs=visible, outputs=output)"
      ],
      "execution_count": null,
      "outputs": []
    },
    {
      "cell_type": "code",
      "metadata": {
        "colab": {
          "base_uri": "https://localhost:8080/"
        },
        "id": "_3JmF-QdXrrE",
        "outputId": "c755bbb9-61bf-496d-f4c8-3112c3438bdc"
      },
      "source": [
        "print(model.summary())"
      ],
      "execution_count": null,
      "outputs": [
        {
          "output_type": "stream",
          "name": "stdout",
          "text": [
            "Model: \"model_2\"\n",
            "_________________________________________________________________\n",
            "Layer (type)                 Output Shape              Param #   \n",
            "=================================================================\n",
            "input_3 (InputLayer)         [(None, 8)]               0         \n",
            "_________________________________________________________________\n",
            "dense_10 (Dense)             (None, 15)                135       \n",
            "_________________________________________________________________\n",
            "dense_11 (Dense)             (None, 10)                160       \n",
            "_________________________________________________________________\n",
            "dense_12 (Dense)             (None, 15)                165       \n",
            "_________________________________________________________________\n",
            "dense_13 (Dense)             (None, 20)                320       \n",
            "_________________________________________________________________\n",
            "dense_14 (Dense)             (None, 1)                 21        \n",
            "=================================================================\n",
            "Total params: 801\n",
            "Trainable params: 801\n",
            "Non-trainable params: 0\n",
            "_________________________________________________________________\n",
            "None\n"
          ]
        }
      ]
    },
    {
      "cell_type": "code",
      "metadata": {
        "colab": {
          "base_uri": "https://localhost:8080/",
          "height": 564
        },
        "id": "OnJ3ff_eX2bN",
        "outputId": "6ce9c86c-74a6-4031-a54f-ae9852e23cbb"
      },
      "source": [
        "plot_model(model, to_file='multilayer_perceptron_graph.png')"
      ],
      "execution_count": null,
      "outputs": [
        {
          "output_type": "execute_result",
          "data": {
            "image/png": "[encoded data removed]",
            "text/plain": [
              "<IPython.core.display.Image object>"
            ]
          },
          "metadata": {},
          "execution_count": 58
        }
      ]
    }
  ]
}