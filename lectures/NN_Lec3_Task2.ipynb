{
  "nbformat": 4,
  "nbformat_minor": 0,
  "metadata": {
    "colab": {
      "name": "NN-Lec3-Task2.ipynb",
      "provenance": [],
      "collapsed_sections": []
    },
    "kernelspec": {
      "name": "python3",
      "display_name": "Python 3"
    },
    "language_info": {
      "name": "python"
    }
  },
  "cells": [
    {
      "cell_type": "code",
      "metadata": {
        "colab": {
          "base_uri": "https://localhost:8080/"
        },
        "id": "wUUfe8CJ6iuo",
        "outputId": "41e9f786-28f7-41a6-d9d0-54591d54f683"
      },
      "source": [
        "import numpy as np\n",
        "from sklearn.metrics import accuracy_score\n",
        "import tensorflow as tf\n",
        "print(\"We're using TF\", tf.__version__)"
      ],
      "execution_count": null,
      "outputs": [
        {
          "output_type": "stream",
          "name": "stdout",
          "text": [
            "We're using TF 2.6.0\n"
          ]
        }
      ]
    },
    {
      "cell_type": "code",
      "metadata": {
        "colab": {
          "base_uri": "https://localhost:8080/"
        },
        "id": "bniKFsQz73UN",
        "outputId": "b3f5abf8-d8e4-48d0-b515-3d739ff3b4b9"
      },
      "source": [
        "import keras\n",
        "import keras.models as M\n",
        "import keras.layers as L\n",
        "import keras.backend as K\n",
        "from keras.utils import np_utils\n",
        "print(\"We're using Keras\", keras.__version__)"
      ],
      "execution_count": null,
      "outputs": [
        {
          "output_type": "stream",
          "name": "stdout",
          "text": [
            "We're using Keras 2.6.0\n"
          ]
        }
      ]
    },
    {
      "cell_type": "code",
      "metadata": {
        "id": "2hocn62S8UoB"
      },
      "source": [
        "from keras.datasets import mnist\n",
        "\n",
        "(x_train, y_train), (x_val, y_val) = tf.keras.datasets.fashion_mnist.load_data()"
      ],
      "execution_count": null,
      "outputs": []
    },
    {
      "cell_type": "code",
      "metadata": {
        "id": "YoWAEhbM8lCP"
      },
      "source": [
        "y_train_oh = keras.utils.np_utils.to_categorical(y_train, 10)\n",
        "y_val_oh = keras.utils.np_utils.to_categorical(y_val, 10)"
      ],
      "execution_count": null,
      "outputs": []
    },
    {
      "cell_type": "code",
      "metadata": {
        "id": "ypWEaNQ6-Xwz"
      },
      "source": [
        "K.clear_session()\n",
        "model = M.Sequential()\n",
        "model.add(L.Dense(784, activation='elu'))\n",
        "model.add(L.Dense(128, activation='elu'))\n",
        "model.add(L.Dense(10, activation='softmax'))"
      ],
      "execution_count": null,
      "outputs": []
    },
    {
      "cell_type": "code",
      "metadata": {
        "id": "lpv0HAne_mxn"
      },
      "source": [
        "model.compile(loss='categorical_crossentropy', optimizer='adam', \n",
        "              metrics=['accuracy'])"
      ],
      "execution_count": null,
      "outputs": []
    },
    {
      "cell_type": "code",
      "metadata": {
        "id": "qVWqRRBF_3p2"
      },
      "source": [
        "x_train_float = x_train.astype(np.float) / 255 - 0.5\n",
        "x_val_float = x_val.astype(np.float) / 255 - 0.5"
      ],
      "execution_count": null,
      "outputs": []
    },
    {
      "cell_type": "code",
      "metadata": {
        "colab": {
          "base_uri": "https://localhost:8080/"
        },
        "id": "2khuq9qFALjU",
        "outputId": "7fce9052-b389-495e-ea1f-47bc80731557"
      },
      "source": [
        "results = model.fit(x_train_float.reshape(-1, 28*28), y_train_oh, batch_size=64, \n",
        "          epochs=10, validation_data=(x_val_float.reshape(-1, 28*28), y_val_oh))"
      ],
      "execution_count": null,
      "outputs": [
        {
          "output_type": "stream",
          "name": "stdout",
          "text": [
            "Epoch 1/10\n",
            "938/938 [==============================] - 11s 11ms/step - loss: 0.4904 - accuracy: 0.8224 - val_loss: 0.4321 - val_accuracy: 0.8403\n",
            "Epoch 2/10\n",
            "938/938 [==============================] - 9s 10ms/step - loss: 0.3736 - accuracy: 0.8644 - val_loss: 0.4028 - val_accuracy: 0.8532\n",
            "Epoch 3/10\n",
            "938/938 [==============================] - 9s 10ms/step - loss: 0.3398 - accuracy: 0.8758 - val_loss: 0.3607 - val_accuracy: 0.8696\n",
            "Epoch 4/10\n",
            "938/938 [==============================] - 10s 10ms/step - loss: 0.3160 - accuracy: 0.8827 - val_loss: 0.3874 - val_accuracy: 0.8634\n",
            "Epoch 5/10\n",
            "938/938 [==============================] - 9s 10ms/step - loss: 0.2947 - accuracy: 0.8903 - val_loss: 0.3622 - val_accuracy: 0.8710\n",
            "Epoch 6/10\n",
            "938/938 [==============================] - 9s 10ms/step - loss: 0.2831 - accuracy: 0.8947 - val_loss: 0.3319 - val_accuracy: 0.8849\n",
            "Epoch 7/10\n",
            "938/938 [==============================] - 9s 10ms/step - loss: 0.2635 - accuracy: 0.9020 - val_loss: 0.3545 - val_accuracy: 0.8805\n",
            "Epoch 8/10\n",
            "938/938 [==============================] - 10s 10ms/step - loss: 0.2553 - accuracy: 0.9039 - val_loss: 0.3477 - val_accuracy: 0.8801\n",
            "Epoch 9/10\n",
            "938/938 [==============================] - 9s 10ms/step - loss: 0.2443 - accuracy: 0.9079 - val_loss: 0.3459 - val_accuracy: 0.8811\n",
            "Epoch 10/10\n",
            "938/938 [==============================] - 9s 10ms/step - loss: 0.2311 - accuracy: 0.9126 - val_loss: 0.3720 - val_accuracy: 0.8837\n"
          ]
        }
      ]
    },
    {
      "cell_type": "code",
      "metadata": {
        "colab": {
          "base_uri": "https://localhost:8080/"
        },
        "id": "l3LP8e4TBM-M",
        "outputId": "86987fde-a84f-4e7a-aadc-1b1a41ff7755"
      },
      "source": [
        "print(np.mean(results.history['val_accuracy']))"
      ],
      "execution_count": null,
      "outputs": [
        {
          "output_type": "stream",
          "name": "stdout",
          "text": [
            "0.8707800030708313\n"
          ]
        }
      ]
    }
  ]
}