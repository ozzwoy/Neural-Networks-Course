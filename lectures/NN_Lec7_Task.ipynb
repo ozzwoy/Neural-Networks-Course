{
  "nbformat": 4,
  "nbformat_minor": 0,
  "metadata": {
    "colab": {
      "name": "NN-Lec7-Task.ipynb",
      "provenance": []
    },
    "kernelspec": {
      "name": "python3",
      "display_name": "Python 3"
    },
    "language_info": {
      "name": "python"
    }
  },
  "cells": [
    {
      "cell_type": "code",
      "metadata": {
        "id": "BB5hj3M2Z0A_"
      },
      "source": [
        "from google.colab import files\n",
        "_ = files.upload()"
      ],
      "execution_count": null,
      "outputs": []
    },
    {
      "cell_type": "markdown",
      "metadata": {
        "id": "Y4wv4idhELpG"
      },
      "source": [
        "**TextBlob — фундаментальний клас для NLP-операцій у модулі textblob**"
      ]
    },
    {
      "cell_type": "code",
      "metadata": {
        "colab": {
          "base_uri": "https://localhost:8080/"
        },
        "id": "GNERMdd5Bff0",
        "outputId": "8f092092-877f-4e6c-abf0-0750f8381aa0"
      },
      "source": [
        "from textblob import TextBlob\n",
        "import nltk\n",
        "nltk.download('punkt')"
      ],
      "execution_count": null,
      "outputs": [
        {
          "output_type": "stream",
          "name": "stdout",
          "text": [
            "[nltk_data] Downloading package punkt to /root/nltk_data...\n",
            "[nltk_data]   Unzipping tokenizers/punkt.zip.\n"
          ]
        },
        {
          "output_type": "execute_result",
          "data": {
            "text/plain": [
              "True"
            ]
          },
          "metadata": {},
          "execution_count": 1
        }
      ]
    },
    {
      "cell_type": "code",
      "metadata": {
        "colab": {
          "base_uri": "https://localhost:8080/"
        },
        "id": "Eho6BlmfCBna",
        "outputId": "4e6851a8-3007-4e24-fb76-cbb860987d1b"
      },
      "source": [
        "text = 'Today is a beautiful day. Tomorrow looks like bad weather.'\n",
        "blob = TextBlob(text)\n",
        "blob"
      ],
      "execution_count": null,
      "outputs": [
        {
          "output_type": "execute_result",
          "data": {
            "text/plain": [
              "TextBlob(\"Today is a beautiful day. Tomorrow looks like bad weather.\")"
            ]
          },
          "metadata": {},
          "execution_count": 3
        }
      ]
    },
    {
      "cell_type": "code",
      "metadata": {
        "colab": {
          "base_uri": "https://localhost:8080/"
        },
        "id": "WXBfkqbNCoCn",
        "outputId": "c11f4f73-67f0-4cba-bd72-ececc440773e"
      },
      "source": [
        "blob.sentences"
      ],
      "execution_count": null,
      "outputs": [
        {
          "output_type": "execute_result",
          "data": {
            "text/plain": [
              "[Sentence(\"Today is a beautiful day.\"),\n",
              " Sentence(\"Tomorrow looks like bad weather.\")]"
            ]
          },
          "metadata": {},
          "execution_count": 5
        }
      ]
    },
    {
      "cell_type": "code",
      "metadata": {
        "colab": {
          "base_uri": "https://localhost:8080/"
        },
        "id": "3ANKT__qCxjK",
        "outputId": "431fb498-82d6-4a46-fb88-e7538f11bb43"
      },
      "source": [
        "nltk.download('averaged_perceptron_tagger', quiet=True)\n",
        "blob.words"
      ],
      "execution_count": null,
      "outputs": [
        {
          "output_type": "execute_result",
          "data": {
            "text/plain": [
              "WordList(['Today', 'is', 'a', 'beautiful', 'day', 'Tomorrow', 'looks', 'like', 'bad', 'weather'])"
            ]
          },
          "metadata": {},
          "execution_count": 7
        }
      ]
    },
    {
      "cell_type": "code",
      "metadata": {
        "colab": {
          "base_uri": "https://localhost:8080/"
        },
        "id": "EOowuJOpDfPr",
        "outputId": "7bcfdb75-6db3-4abb-f050-3f6a9998bb14"
      },
      "source": [
        "blob.tags"
      ],
      "execution_count": null,
      "outputs": [
        {
          "output_type": "execute_result",
          "data": {
            "text/plain": [
              "[('Today', 'NN'),\n",
              " ('is', 'VBZ'),\n",
              " ('a', 'DT'),\n",
              " ('beautiful', 'JJ'),\n",
              " ('day', 'NN'),\n",
              " ('Tomorrow', 'NNP'),\n",
              " ('looks', 'VBZ'),\n",
              " ('like', 'IN'),\n",
              " ('bad', 'JJ'),\n",
              " ('weather', 'NN')]"
            ]
          },
          "metadata": {},
          "execution_count": 8
        }
      ]
    },
    {
      "cell_type": "markdown",
      "metadata": {
        "id": "Ln-QFBi3EGxV"
      },
      "source": [
        "**Вилучення іменних конструкцій**"
      ]
    },
    {
      "cell_type": "code",
      "metadata": {
        "colab": {
          "base_uri": "https://localhost:8080/"
        },
        "id": "CExaPTsOEJ4U",
        "outputId": "80f6e282-59d6-420a-88f6-0bf7fa311ba2"
      },
      "source": [
        "nltk.download('brown', quiet=True)\n",
        "blob.noun_phrases"
      ],
      "execution_count": null,
      "outputs": [
        {
          "output_type": "execute_result",
          "data": {
            "text/plain": [
              "WordList(['beautiful day', 'tomorrow', 'bad weather'])"
            ]
          },
          "metadata": {},
          "execution_count": 10
        }
      ]
    },
    {
      "cell_type": "markdown",
      "metadata": {
        "id": "EXj81S3COLZi"
      },
      "source": [
        "**Аналіз емоційного забарвлення**"
      ]
    },
    {
      "cell_type": "code",
      "metadata": {
        "colab": {
          "base_uri": "https://localhost:8080/"
        },
        "id": "QDqJOgosE9k6",
        "outputId": "108ccff3-b8c1-4597-9fee-e0810bf1c134"
      },
      "source": [
        "print(blob.sentiment)\n",
        "print('{0:0.3f}'.format(blob.sentiment.polarity))\n",
        "print('{0:0.3f}'.format(blob.sentiment.subjectivity))"
      ],
      "execution_count": null,
      "outputs": [
        {
          "output_type": "stream",
          "name": "stdout",
          "text": [
            "Sentiment(polarity=0.07500000000000007, subjectivity=0.8333333333333333)\n",
            "0.075\n",
            "0.833\n"
          ]
        }
      ]
    },
    {
      "cell_type": "code",
      "metadata": {
        "colab": {
          "base_uri": "https://localhost:8080/"
        },
        "id": "2A5Djt55JLbX",
        "outputId": "ec4083f7-1b08-4ab2-8960-3c7c08834054"
      },
      "source": [
        "for sentence in blob.sentences:\n",
        "  print(sentence)\n",
        "  print(sentence.sentiment)"
      ],
      "execution_count": null,
      "outputs": [
        {
          "output_type": "stream",
          "name": "stdout",
          "text": [
            "Today is a beautiful day.\n",
            "Sentiment(polarity=0.85, subjectivity=1.0)\n",
            "Tomorrow looks like bad weather.\n",
            "Sentiment(polarity=-0.6999999999999998, subjectivity=0.6666666666666666)\n"
          ]
        }
      ]
    },
    {
      "cell_type": "code",
      "metadata": {
        "colab": {
          "base_uri": "https://localhost:8080/"
        },
        "id": "lFiMBhJ0MpFP",
        "outputId": "43f4e1ae-e9aa-460f-accc-9dbed82745ca"
      },
      "source": [
        "nltk.download('movie_reviews', quiet=True)\n",
        "from textblob.sentiments import NaiveBayesAnalyzer\n",
        "blob = TextBlob(text, analyzer=NaiveBayesAnalyzer())\n",
        "print(blob)\n",
        "print(blob.sentiment)"
      ],
      "execution_count": null,
      "outputs": [
        {
          "output_type": "stream",
          "name": "stdout",
          "text": [
            "Today is a beautiful day. Tomorrow looks like bad weather.\n",
            "Sentiment(classification='neg', p_pos=0.47662917962091056, p_neg=0.5233708203790892)\n"
          ]
        }
      ]
    },
    {
      "cell_type": "code",
      "metadata": {
        "colab": {
          "base_uri": "https://localhost:8080/"
        },
        "id": "tgQhinsLNWyA",
        "outputId": "b5cdce9b-eeb2-4e72-f63d-b7de9db7a864"
      },
      "source": [
        "for sentence in blob.sentences:\n",
        "  print(sentence)\n",
        "  print(sentence.sentiment)"
      ],
      "execution_count": null,
      "outputs": [
        {
          "output_type": "stream",
          "name": "stdout",
          "text": [
            "Today is a beautiful day.\n",
            "Sentiment(classification='pos', p_pos=0.8117563121751951, p_neg=0.18824368782480477)\n",
            "Tomorrow looks like bad weather.\n",
            "Sentiment(classification='neg', p_pos=0.174363226578349, p_neg=0.8256367734216521)\n"
          ]
        }
      ]
    },
    {
      "cell_type": "markdown",
      "metadata": {
        "id": "l1NopSy6OQm3"
      },
      "source": [
        "**Формоутворення: однина та множина**"
      ]
    },
    {
      "cell_type": "code",
      "metadata": {
        "id": "k7uCz5bHOUG_"
      },
      "source": [
        "from textblob import Word"
      ],
      "execution_count": null,
      "outputs": []
    },
    {
      "cell_type": "code",
      "metadata": {
        "colab": {
          "base_uri": "https://localhost:8080/",
          "height": 35
        },
        "id": "NxnayaMjOd1S",
        "outputId": "90fb47c2-a564-4641-dab8-047631fe0c1e"
      },
      "source": [
        "index = Word('index')\n",
        "index.pluralize()"
      ],
      "execution_count": null,
      "outputs": [
        {
          "output_type": "execute_result",
          "data": {
            "application/vnd.google.colaboratory.intrinsic+json": {
              "type": "string"
            },
            "text/plain": [
              "'indices'"
            ]
          },
          "metadata": {},
          "execution_count": 29
        }
      ]
    },
    {
      "cell_type": "code",
      "metadata": {
        "colab": {
          "base_uri": "https://localhost:8080/",
          "height": 35
        },
        "id": "NZxeKT_wOuvk",
        "outputId": "e0d966d4-482b-4674-ceb8-2cc5e06e1fb1"
      },
      "source": [
        "cacti = Word('cacti')\n",
        "cacti.pluralize()"
      ],
      "execution_count": null,
      "outputs": [
        {
          "output_type": "execute_result",
          "data": {
            "application/vnd.google.colaboratory.intrinsic+json": {
              "type": "string"
            },
            "text/plain": [
              "'cactis'"
            ]
          },
          "metadata": {},
          "execution_count": 30
        }
      ]
    },
    {
      "cell_type": "code",
      "metadata": {
        "colab": {
          "base_uri": "https://localhost:8080/"
        },
        "id": "bEhF9ng2O1CA",
        "outputId": "2e8dba30-20d5-429b-f634-9b7c43df49d2"
      },
      "source": [
        "animals = TextBlob('dog cat fish bird').words\n",
        "animals.pluralize()"
      ],
      "execution_count": null,
      "outputs": [
        {
          "output_type": "execute_result",
          "data": {
            "text/plain": [
              "WordList(['dogs', 'cats', 'fish', 'birds'])"
            ]
          },
          "metadata": {},
          "execution_count": 31
        }
      ]
    },
    {
      "cell_type": "code",
      "metadata": {
        "colab": {
          "base_uri": "https://localhost:8080/"
        },
        "id": "GfnXaq4WPELl",
        "outputId": "e23e09fe-3c41-4afd-845c-2508ab12365f"
      },
      "source": [
        "word = Word('theyr')\n",
        "%precision 2\n",
        "word.spellcheck()"
      ],
      "execution_count": null,
      "outputs": [
        {
          "output_type": "execute_result",
          "data": {
            "text/plain": [
              "[('they', 0.57), ('their', 0.43)]"
            ]
          },
          "metadata": {},
          "execution_count": 32
        }
      ]
    },
    {
      "cell_type": "code",
      "metadata": {
        "colab": {
          "base_uri": "https://localhost:8080/",
          "height": 35
        },
        "id": "RI1eLl1yPR9d",
        "outputId": "40efdc23-7b8e-4a6c-83d9-43067de77854"
      },
      "source": [
        "word.correct()"
      ],
      "execution_count": null,
      "outputs": [
        {
          "output_type": "execute_result",
          "data": {
            "application/vnd.google.colaboratory.intrinsic+json": {
              "type": "string"
            },
            "text/plain": [
              "'they'"
            ]
          },
          "metadata": {},
          "execution_count": 33
        }
      ]
    },
    {
      "cell_type": "code",
      "metadata": {
        "colab": {
          "base_uri": "https://localhost:8080/"
        },
        "id": "Pd3jQehOPX-7",
        "outputId": "a87cd588-10fa-4b42-bcd5-5bd53a39642a"
      },
      "source": [
        "sentence = TextBlob('The sentense has missplled wrds.')\n",
        "sentence.correct()"
      ],
      "execution_count": null,
      "outputs": [
        {
          "output_type": "execute_result",
          "data": {
            "text/plain": [
              "TextBlob(\"The sentence has misspelled words.\")"
            ]
          },
          "metadata": {},
          "execution_count": 34
        }
      ]
    },
    {
      "cell_type": "code",
      "metadata": {
        "colab": {
          "base_uri": "https://localhost:8080/"
        },
        "id": "6JVoue3-P1rd",
        "outputId": "7ccfb300-f9a9-4687-be8e-e75c056f2664"
      },
      "source": [
        "nltk.download('wordnet', quiet=True)\n",
        "word = Word('varieties')\n",
        "print(word.stem())\n",
        "print(word.lemmatize())"
      ],
      "execution_count": null,
      "outputs": [
        {
          "output_type": "stream",
          "name": "stdout",
          "text": [
            "varieti\n",
            "variety\n"
          ]
        }
      ]
    },
    {
      "cell_type": "markdown",
      "metadata": {
        "id": "mJI8UFomSj21"
      },
      "source": [
        "**Аналіз \"Ромео і Джульєтти\"**"
      ]
    },
    {
      "cell_type": "code",
      "metadata": {
        "id": "C_uAHohNSsjX"
      },
      "source": [
        "from pathlib import Path"
      ],
      "execution_count": null,
      "outputs": []
    },
    {
      "cell_type": "code",
      "metadata": {
        "colab": {
          "base_uri": "https://localhost:8080/"
        },
        "id": "JOk4WSKhS6oZ",
        "outputId": "2b598220-a47b-42f7-894d-e591a77ee8ac"
      },
      "source": [
        "blob = TextBlob(Path('romeo_and_juliet.txt').read_text())\n",
        "print('Juliet: ', blob.word_counts['juliet'])\n",
        "print('Romeo: ', blob.word_counts['romeo'])"
      ],
      "execution_count": null,
      "outputs": [
        {
          "output_type": "stream",
          "name": "stdout",
          "text": [
            "Juliet:  190\n",
            "Romeo:  315\n"
          ]
        }
      ]
    },
    {
      "cell_type": "code",
      "metadata": {
        "id": "GL0aVWxGTjdU"
      },
      "source": [
        "nltk.download('stopwords', quiet=True)\n",
        "from nltk.corpus import stopwords"
      ],
      "execution_count": null,
      "outputs": []
    },
    {
      "cell_type": "code",
      "metadata": {
        "colab": {
          "base_uri": "https://localhost:8080/"
        },
        "id": "mqWlro8STy0W",
        "outputId": "3d89d59b-5fff-4bfc-d32f-e23f4302d34f"
      },
      "source": [
        "stops = stopwords.words('english')\n",
        "blob = TextBlob('Today is a beautiful day.')\n",
        "[word for word in blob.words if word not in stops]"
      ],
      "execution_count": null,
      "outputs": [
        {
          "output_type": "execute_result",
          "data": {
            "text/plain": [
              "['Today', 'beautiful', 'day']"
            ]
          },
          "metadata": {},
          "execution_count": 45
        }
      ]
    },
    {
      "cell_type": "markdown",
      "metadata": {
        "id": "WUkznn5pU0mH"
      },
      "source": [
        "**Візуалізація частот входження слів засобами Pandas**"
      ]
    },
    {
      "cell_type": "code",
      "metadata": {
        "id": "K25kRuJwU-e7"
      },
      "source": [
        "blob = TextBlob(Path('romeo_and_juliet.txt').read_text())\n",
        "items = blob.word_counts.items()\n",
        "items = [item for item in items if item[0] not in stops]"
      ],
      "execution_count": null,
      "outputs": []
    },
    {
      "cell_type": "code",
      "metadata": {
        "id": "Y0EwIcZDVlf7"
      },
      "source": [
        "import pandas as pd\n",
        "\n",
        "from operator import itemgetter"
      ],
      "execution_count": null,
      "outputs": []
    },
    {
      "cell_type": "code",
      "metadata": {
        "colab": {
          "base_uri": "https://localhost:8080/",
          "height": 665
        },
        "id": "b2ssNUwMVqCm",
        "outputId": "6fba8ac0-bd59-41e6-d5b9-123afdd15662"
      },
      "source": [
        "sorted_items = sorted(items, key=itemgetter(1), reverse=True)\n",
        "top20 = sorted_items[1:21]\n",
        "df = pd.DataFrame(top20, columns=['word', 'count'])\n",
        "df"
      ],
      "execution_count": null,
      "outputs": [
        {
          "output_type": "execute_result",
          "data": {
            "text/html": [
              "<div>\n",
              "<style scoped>\n",
              "    .dataframe tbody tr th:only-of-type {\n",
              "        vertical-align: middle;\n",
              "    }\n",
              "\n",
              "    .dataframe tbody tr th {\n",
              "        vertical-align: top;\n",
              "    }\n",
              "\n",
              "    .dataframe thead th {\n",
              "        text-align: right;\n",
              "    }\n",
              "</style>\n",
              "<table border=\"1\" class=\"dataframe\">\n",
              "  <thead>\n",
              "    <tr style=\"text-align: right;\">\n",
              "      <th></th>\n",
              "      <th>word</th>\n",
              "      <th>count</th>\n",
              "    </tr>\n",
              "  </thead>\n",
              "  <tbody>\n",
              "    <tr>\n",
              "      <th>0</th>\n",
              "      <td>romeo</td>\n",
              "      <td>315</td>\n",
              "    </tr>\n",
              "    <tr>\n",
              "      <th>1</th>\n",
              "      <td>thou</td>\n",
              "      <td>278</td>\n",
              "    </tr>\n",
              "    <tr>\n",
              "      <th>2</th>\n",
              "      <td>juliet</td>\n",
              "      <td>190</td>\n",
              "    </tr>\n",
              "    <tr>\n",
              "      <th>3</th>\n",
              "      <td>thy</td>\n",
              "      <td>170</td>\n",
              "    </tr>\n",
              "    <tr>\n",
              "      <th>4</th>\n",
              "      <td>capulet</td>\n",
              "      <td>163</td>\n",
              "    </tr>\n",
              "    <tr>\n",
              "      <th>5</th>\n",
              "      <td>nurse</td>\n",
              "      <td>149</td>\n",
              "    </tr>\n",
              "    <tr>\n",
              "      <th>6</th>\n",
              "      <td>love</td>\n",
              "      <td>148</td>\n",
              "    </tr>\n",
              "    <tr>\n",
              "      <th>7</th>\n",
              "      <td>thee</td>\n",
              "      <td>138</td>\n",
              "    </tr>\n",
              "    <tr>\n",
              "      <th>8</th>\n",
              "      <td>lady</td>\n",
              "      <td>117</td>\n",
              "    </tr>\n",
              "    <tr>\n",
              "      <th>9</th>\n",
              "      <td>shall</td>\n",
              "      <td>110</td>\n",
              "    </tr>\n",
              "    <tr>\n",
              "      <th>10</th>\n",
              "      <td>friar</td>\n",
              "      <td>105</td>\n",
              "    </tr>\n",
              "    <tr>\n",
              "      <th>11</th>\n",
              "      <td>come</td>\n",
              "      <td>94</td>\n",
              "    </tr>\n",
              "    <tr>\n",
              "      <th>12</th>\n",
              "      <td>mercutio</td>\n",
              "      <td>88</td>\n",
              "    </tr>\n",
              "    <tr>\n",
              "      <th>13</th>\n",
              "      <td>lawrence</td>\n",
              "      <td>82</td>\n",
              "    </tr>\n",
              "    <tr>\n",
              "      <th>14</th>\n",
              "      <td>good</td>\n",
              "      <td>80</td>\n",
              "    </tr>\n",
              "    <tr>\n",
              "      <th>15</th>\n",
              "      <td>benvolio</td>\n",
              "      <td>79</td>\n",
              "    </tr>\n",
              "    <tr>\n",
              "      <th>16</th>\n",
              "      <td>tybalt</td>\n",
              "      <td>79</td>\n",
              "    </tr>\n",
              "    <tr>\n",
              "      <th>17</th>\n",
              "      <td>enter</td>\n",
              "      <td>75</td>\n",
              "    </tr>\n",
              "    <tr>\n",
              "      <th>18</th>\n",
              "      <td>go</td>\n",
              "      <td>75</td>\n",
              "    </tr>\n",
              "    <tr>\n",
              "      <th>19</th>\n",
              "      <td>night</td>\n",
              "      <td>73</td>\n",
              "    </tr>\n",
              "  </tbody>\n",
              "</table>\n",
              "</div>"
            ],
            "text/plain": [
              "        word  count\n",
              "0      romeo    315\n",
              "1       thou    278\n",
              "2     juliet    190\n",
              "3        thy    170\n",
              "4    capulet    163\n",
              "5      nurse    149\n",
              "6       love    148\n",
              "7       thee    138\n",
              "8       lady    117\n",
              "9      shall    110\n",
              "10     friar    105\n",
              "11      come     94\n",
              "12  mercutio     88\n",
              "13  lawrence     82\n",
              "14      good     80\n",
              "15  benvolio     79\n",
              "16    tybalt     79\n",
              "17     enter     75\n",
              "18        go     75\n",
              "19     night     73"
            ]
          },
          "metadata": {},
          "execution_count": 55
        }
      ]
    },
    {
      "cell_type": "code",
      "metadata": {
        "colab": {
          "base_uri": "https://localhost:8080/",
          "height": 314
        },
        "id": "NamHnOIiW0dX",
        "outputId": "af695d6f-4f8c-4729-dc13-cf6c0ca88c03"
      },
      "source": [
        "axes = df.plot.bar(x='word', y='count', legend=False)"
      ],
      "execution_count": null,
      "outputs": [
        {
          "output_type": "display_data",
          "data": {
            "image/png": "[encoded data removed]",
            "text/plain": [
              "<Figure size 432x288 with 1 Axes>"
            ]
          },
          "metadata": {
            "needs_background": "light"
          }
        }
      ]
    },
    {
      "cell_type": "code",
      "metadata": {
        "id": "HKQEZGByXFHW"
      },
      "source": [
        "import imageio\n",
        "\n",
        "from wordcloud import WordCloud"
      ],
      "execution_count": null,
      "outputs": []
    },
    {
      "cell_type": "code",
      "metadata": {
        "id": "2mewYAL4XOAK"
      },
      "source": [
        "mask_image = imageio.imread('jellyfish.png')\n",
        "text = Path('romeo_and_juliet.txt').read_text()\n",
        "wordcloud = WordCloud(colormap='prism', mask=mask_image, \n",
        "                      background_color='white')\n",
        "wordcloud = wordcloud.generate(text)\n",
        "wordcloud = wordcloud.to_file('romeo_and_juliet_jellyfish.png')"
      ],
      "execution_count": null,
      "outputs": []
    }
  ]
}