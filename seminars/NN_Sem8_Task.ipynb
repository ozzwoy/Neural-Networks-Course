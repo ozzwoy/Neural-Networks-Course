{
  "nbformat": 4,
  "nbformat_minor": 0,
  "metadata": {
    "colab": {
      "name": "NN-Sem8-Task.ipynb",
      "provenance": [],
      "collapsed_sections": []
    },
    "kernelspec": {
      "name": "python3",
      "display_name": "Python 3"
    },
    "language_info": {
      "name": "python"
    }
  },
  "cells": [
    {
      "cell_type": "markdown",
      "metadata": {
        "id": "_mIMLbF_dO_Q"
      },
      "source": [
        "**Згенеруємо дані (5000 прикладів) та збережемо у файл.**"
      ]
    },
    {
      "cell_type": "code",
      "metadata": {
        "id": "OWeRjT2-Usz0"
      },
      "source": [
        "import numpy as np"
      ],
      "execution_count": null,
      "outputs": []
    },
    {
      "cell_type": "code",
      "metadata": {
        "id": "lKA7k1VETCc1"
      },
      "source": [
        "def generate_example():\n",
        "  example = np.array([])\n",
        "\n",
        "  # distribution of marks is 1:1:3:3:2\n",
        "  marks = np.random.randint(1, 11, (1, 3))[0]\n",
        "  for i in range(len(marks)):\n",
        "    if marks[i] > 2 and marks[i] < 6:\n",
        "      marks[i] = 3\n",
        "    elif marks[i] >= 6 and marks[i] < 9:\n",
        "      marks[i] = 4\n",
        "    elif marks[i] >= 9:\n",
        "      marks[i] = 5\n",
        "\n",
        "  # distribution of privilege is 9:1\n",
        "  privilege = np.random.randint(1, 11)\n",
        "  if privilege > 9:\n",
        "    privilege = 1\n",
        "  else: \n",
        "    privilege = 0\n",
        "\n",
        "  enrolled = 0\n",
        "  if privilege == 0:\n",
        "    if (marks >= 4).all():\n",
        "      score = np.sum(marks)\n",
        "      if score >= 11:\n",
        "        enrolled = 1\n",
        "  else:\n",
        "    if (marks >= 3).all():\n",
        "      enrolled = 1\n",
        "  \n",
        "  return np.append(marks, [privilege, enrolled])\n",
        "\n",
        "def generate_data(path, n):\n",
        "  file = open(path, \"w\")\n",
        "\n",
        "  for i in range(n):\n",
        "    example = generate_example()\n",
        "    string = ' '.join([str(num) for num in example]) + '\\n'\n",
        "    file.write(string)\n",
        "\n",
        "  file.close()"
      ],
      "execution_count": null,
      "outputs": []
    },
    {
      "cell_type": "code",
      "metadata": {
        "id": "bo2wox9Hb0Qh"
      },
      "source": [
        "generate_data('data.txt', 5000)"
      ],
      "execution_count": null,
      "outputs": []
    },
    {
      "cell_type": "markdown",
      "metadata": {
        "id": "pqrJBs2Pdcm4"
      },
      "source": [
        "**Зчитаємо дані з файлу та розіб'ємо вибірку на тренувальну та навчальну.**"
      ]
    },
    {
      "cell_type": "code",
      "metadata": {
        "id": "-Rh7E2K5gURf"
      },
      "source": [
        "import pandas as pd"
      ],
      "execution_count": null,
      "outputs": []
    },
    {
      "cell_type": "code",
      "metadata": {
        "id": "zcPGMRqldrDN"
      },
      "source": [
        "def read_data(path):\n",
        "  data = pd.read_csv(path, sep=' ', header=None, engine=\"python\")\n",
        "  return data.to_numpy()\n",
        "\n",
        "def split(array, test_part):\n",
        "  size = len(array)\n",
        "  test_size = int(size * test_part)\n",
        "  train_size = size - test_size\n",
        "  np.random.shuffle(array)\n",
        "  return array[:train_size], array[train_size:]"
      ],
      "execution_count": null,
      "outputs": []
    },
    {
      "cell_type": "code",
      "metadata": {
        "id": "1ZmYWLvFgo7m"
      },
      "source": [
        "data = read_data('data.txt')"
      ],
      "execution_count": null,
      "outputs": []
    },
    {
      "cell_type": "code",
      "metadata": {
        "colab": {
          "base_uri": "https://localhost:8080/"
        },
        "id": "FN7gSpGZl2uq",
        "outputId": "5115b2d5-2034-462d-906f-27a1450d4e07"
      },
      "source": [
        "size = len(data)\n",
        "enrolled = data[data[:, 4] > 0]\n",
        "\n",
        "num_enrolled = len(enrolled)\n",
        "num_failed = np.count_nonzero(data[:, 4] == 0)\n",
        "print('Examples: ', size)\n",
        "print('Enrolled: ', num_enrolled)\n",
        "print('Failed: ', num_failed)\n",
        "\n",
        "num_enrolled_simple = np.count_nonzero(enrolled[:, 3] == 0)\n",
        "num_enrolled_privileged = np.count_nonzero(enrolled[:, 3] > 0)\n",
        "print('\\nEnrolled simple: ', num_enrolled_simple)\n",
        "print('Enrolled privileged: ', num_enrolled_privileged)"
      ],
      "execution_count": null,
      "outputs": [
        {
          "output_type": "stream",
          "name": "stdout",
          "text": [
            "Examples:  5000\n",
            "Enrolled:  813\n",
            "Failed:  4187\n",
            "\n",
            "Enrolled simple:  545\n",
            "Enrolled privileged:  268\n"
          ]
        }
      ]
    },
    {
      "cell_type": "code",
      "metadata": {
        "colab": {
          "base_uri": "https://localhost:8080/"
        },
        "id": "ycEo874Nunif",
        "outputId": "b74a8105-4190-4fd4-d093-7115516f0b3e"
      },
      "source": [
        "train, test = split(data, 0.2)\n",
        "print('Train: ', len(train))\n",
        "print('Test: ', len(test))"
      ],
      "execution_count": null,
      "outputs": [
        {
          "output_type": "stream",
          "name": "stdout",
          "text": [
            "Train:  4000\n",
            "Test:  1000\n"
          ]
        }
      ]
    },
    {
      "cell_type": "code",
      "metadata": {
        "colab": {
          "base_uri": "https://localhost:8080/"
        },
        "id": "6o0S8o-zwAXB",
        "outputId": "d1ee4a95-6cf7-4187-a0ad-637ccafd74cc"
      },
      "source": [
        "train_x = train[:, :-1]\n",
        "train_y = train[:, -1]\n",
        "test_x = test[:, :-1]\n",
        "test_y = test[:, -1]\n",
        "print(train_x.shape)\n",
        "print(train_y.shape)"
      ],
      "execution_count": null,
      "outputs": [
        {
          "output_type": "stream",
          "name": "stdout",
          "text": [
            "(4000, 4)\n",
            "(4000,)\n"
          ]
        }
      ]
    },
    {
      "cell_type": "markdown",
      "metadata": {
        "id": "whpW1smmwdp7"
      },
      "source": [
        "**Побудуємо нейронну мережу для розв'язку поставленої задачі.**"
      ]
    },
    {
      "cell_type": "code",
      "metadata": {
        "id": "1Ejen8YkwlWj"
      },
      "source": [
        "from tensorflow import keras\n",
        "from tensorflow.keras import layers\n",
        "from tensorflow.keras import Input\n",
        "from tensorflow.keras.layers import Dense\n",
        "from tensorflow.keras.models import Sequential"
      ],
      "execution_count": null,
      "outputs": []
    },
    {
      "cell_type": "code",
      "metadata": {
        "colab": {
          "base_uri": "https://localhost:8080/"
        },
        "id": "FBu2XhbJw6yn",
        "outputId": "053fdc7a-3190-4a42-c5f0-f781698a407d"
      },
      "source": [
        "sets = [10, 30, 50, 100]\n",
        "layers = [1, 2, 3, 4]\n",
        "results = []\n",
        "\n",
        "for neurons in sets:\n",
        "  for layer in layers:\n",
        "    print(str(neurons) + ' neurons in layer, ' + str(layer) + ' hidden layers')\n",
        "\n",
        "    model = Sequential()\n",
        "    model.add(Input(shape=(4,)))\n",
        "    for i in range(layer):\n",
        "      model.add(Dense(neurons, activation='relu'))\n",
        "    model.add(Dense(1, activation='sigmoid'))\n",
        "\n",
        "    model.compile(loss='binary_crossentropy', optimizer='adam', \n",
        "                  metrics=['accuracy'])\n",
        "    history = model.fit(train_x, train_y, validation_data=(test_x, test_y),\n",
        "                        batch_size=100, epochs=20, verbose=0)\n",
        "    results.append((history.history['accuracy'][-1],\n",
        "                    history.history['val_accuracy'][-1]))\n",
        "    print('Accuracies: ' + str(results[-1]) + '\\n')"
      ],
      "execution_count": null,
      "outputs": [
        {
          "output_type": "stream",
          "name": "stdout",
          "text": [
            "10 neurons in layer, 1 hidden layers\n",
            "Accuracies: (0.8585000038146973, 0.878000020980835)\n",
            "\n",
            "10 neurons in layer, 2 hidden layers\n",
            "Accuracies: (0.9779999852180481, 0.968999981880188)\n",
            "\n",
            "10 neurons in layer, 3 hidden layers\n",
            "Accuracies: (0.9745000004768372, 0.9700000286102295)\n",
            "\n",
            "10 neurons in layer, 4 hidden layers\n",
            "Accuracies: (0.9957500100135803, 0.9980000257492065)\n",
            "\n",
            "30 neurons in layer, 1 hidden layers\n",
            "Accuracies: (0.9447500109672546, 0.9509999752044678)\n",
            "\n",
            "30 neurons in layer, 2 hidden layers\n",
            "Accuracies: (0.9990000128746033, 1.0)\n",
            "\n",
            "30 neurons in layer, 3 hidden layers\n",
            "Accuracies: (0.9982500076293945, 1.0)\n",
            "\n",
            "30 neurons in layer, 4 hidden layers\n",
            "Accuracies: (1.0, 1.0)\n",
            "\n",
            "50 neurons in layer, 1 hidden layers\n",
            "Accuracies: (0.9682499766349792, 0.9629999995231628)\n",
            "\n",
            "50 neurons in layer, 2 hidden layers\n",
            "Accuracies: (0.9992499947547913, 1.0)\n",
            "\n",
            "50 neurons in layer, 3 hidden layers\n",
            "Accuracies: (1.0, 1.0)\n",
            "\n",
            "50 neurons in layer, 4 hidden layers\n",
            "Accuracies: (1.0, 1.0)\n",
            "\n",
            "100 neurons in layer, 1 hidden layers\n",
            "Accuracies: (0.9674999713897705, 0.9670000076293945)\n",
            "\n",
            "100 neurons in layer, 2 hidden layers\n",
            "Accuracies: (1.0, 1.0)\n",
            "\n",
            "100 neurons in layer, 3 hidden layers\n",
            "Accuracies: (1.0, 1.0)\n",
            "\n",
            "100 neurons in layer, 4 hidden layers\n",
            "Accuracies: (1.0, 1.0)\n",
            "\n"
          ]
        }
      ]
    },
    {
      "cell_type": "code",
      "metadata": {
        "id": "MAqGK5h14ohD"
      },
      "source": [
        "import itertools\n",
        "import matplotlib.pyplot as plt"
      ],
      "execution_count": null,
      "outputs": []
    },
    {
      "cell_type": "code",
      "metadata": {
        "colab": {
          "base_uri": "https://localhost:8080/",
          "height": 295
        },
        "id": "12J0zpHH530g",
        "outputId": "5434c713-59fe-4ba4-d841-18857d3e4924"
      },
      "source": [
        "x = list(itertools.product(sets, layers))\n",
        "plt.bar([str(e) for e in x], [y[1] for y in results])\n",
        "plt.xticks(rotation='vertical')\n",
        "_ = plt.legend(['val_accuracy'], loc=4)"
      ],
      "execution_count": null,
      "outputs": [
        {
          "output_type": "display_data",
          "data": {
            "image/png": "[encoded data removed]",
            "text/plain": [
              "<Figure size 432x288 with 1 Axes>"
            ]
          },
          "metadata": {
            "needs_background": "light"
          }
        }
      ]
    },
    {
      "cell_type": "markdown",
      "metadata": {
        "id": "y-AW04OKEFYM"
      },
      "source": [
        "Бачимо, що один із найкращих результатів досягається для моделі з двома прихованими шарами з 30-ма нейронами."
      ]
    },
    {
      "cell_type": "code",
      "metadata": {
        "colab": {
          "base_uri": "https://localhost:8080/"
        },
        "id": "BzHGiqrwEdh-",
        "outputId": "83c636c2-d8ed-4198-bd34-3c98301caf7d"
      },
      "source": [
        "model = Sequential()\n",
        "model.add(Input(shape=(4,)))\n",
        "model.add(Dense(30, activation='relu'))\n",
        "model.add(Dense(30, activation='relu'))\n",
        "model.add(Dense(1, activation='sigmoid'))\n",
        "model.compile(loss='binary_crossentropy', optimizer='adam', \n",
        "              metrics=['accuracy'])\n",
        "_ = model.fit(train_x, train_y, validation_data=(test_x, test_y),\n",
        "              batch_size=100, epochs=20)"
      ],
      "execution_count": null,
      "outputs": [
        {
          "output_type": "stream",
          "name": "stdout",
          "text": [
            "Epoch 1/20\n",
            "40/40 [==============================] - 1s 7ms/step - loss: 0.9338 - accuracy: 0.4563 - val_loss: 0.5104 - val_accuracy: 0.8460\n",
            "Epoch 2/20\n",
            "40/40 [==============================] - 0s 3ms/step - loss: 0.5071 - accuracy: 0.8353 - val_loss: 0.4675 - val_accuracy: 0.8460\n",
            "Epoch 3/20\n",
            "40/40 [==============================] - 0s 3ms/step - loss: 0.4672 - accuracy: 0.8353 - val_loss: 0.4277 - val_accuracy: 0.8460\n",
            "Epoch 4/20\n",
            "40/40 [==============================] - 0s 3ms/step - loss: 0.4292 - accuracy: 0.8353 - val_loss: 0.3925 - val_accuracy: 0.8460\n",
            "Epoch 5/20\n",
            "40/40 [==============================] - 0s 3ms/step - loss: 0.3922 - accuracy: 0.8353 - val_loss: 0.3527 - val_accuracy: 0.8460\n",
            "Epoch 6/20\n",
            "40/40 [==============================] - 0s 3ms/step - loss: 0.3534 - accuracy: 0.8353 - val_loss: 0.3127 - val_accuracy: 0.8460\n",
            "Epoch 7/20\n",
            "40/40 [==============================] - 0s 3ms/step - loss: 0.3120 - accuracy: 0.8415 - val_loss: 0.2713 - val_accuracy: 0.8820\n",
            "Epoch 8/20\n",
            "40/40 [==============================] - 0s 4ms/step - loss: 0.2712 - accuracy: 0.8727 - val_loss: 0.2319 - val_accuracy: 0.9090\n",
            "Epoch 9/20\n",
            "40/40 [==============================] - 0s 3ms/step - loss: 0.2344 - accuracy: 0.9022 - val_loss: 0.2033 - val_accuracy: 0.9320\n",
            "Epoch 10/20\n",
            "40/40 [==============================] - 0s 3ms/step - loss: 0.2053 - accuracy: 0.9270 - val_loss: 0.1740 - val_accuracy: 0.9540\n",
            "Epoch 11/20\n",
            "40/40 [==============================] - 0s 3ms/step - loss: 0.1793 - accuracy: 0.9440 - val_loss: 0.1533 - val_accuracy: 0.9810\n",
            "Epoch 12/20\n",
            "40/40 [==============================] - 0s 3ms/step - loss: 0.1583 - accuracy: 0.9660 - val_loss: 0.1347 - val_accuracy: 0.9960\n",
            "Epoch 13/20\n",
            "40/40 [==============================] - 0s 4ms/step - loss: 0.1381 - accuracy: 0.9908 - val_loss: 0.1150 - val_accuracy: 0.9870\n",
            "Epoch 14/20\n",
            "40/40 [==============================] - 0s 3ms/step - loss: 0.1218 - accuracy: 0.9930 - val_loss: 0.1005 - val_accuracy: 1.0000\n",
            "Epoch 15/20\n",
            "40/40 [==============================] - 0s 4ms/step - loss: 0.1055 - accuracy: 0.9995 - val_loss: 0.0915 - val_accuracy: 1.0000\n",
            "Epoch 16/20\n",
            "40/40 [==============================] - 0s 3ms/step - loss: 0.0932 - accuracy: 0.9992 - val_loss: 0.0778 - val_accuracy: 1.0000\n",
            "Epoch 17/20\n",
            "40/40 [==============================] - 0s 3ms/step - loss: 0.0811 - accuracy: 0.9998 - val_loss: 0.0686 - val_accuracy: 1.0000\n",
            "Epoch 18/20\n",
            "40/40 [==============================] - 0s 3ms/step - loss: 0.0702 - accuracy: 0.9998 - val_loss: 0.0601 - val_accuracy: 1.0000\n",
            "Epoch 19/20\n",
            "40/40 [==============================] - 0s 4ms/step - loss: 0.0615 - accuracy: 1.0000 - val_loss: 0.0543 - val_accuracy: 1.0000\n",
            "Epoch 20/20\n",
            "40/40 [==============================] - 0s 3ms/step - loss: 0.0549 - accuracy: 1.0000 - val_loss: 0.0467 - val_accuracy: 1.0000\n"
          ]
        }
      ]
    },
    {
      "cell_type": "markdown",
      "metadata": {
        "id": "DVrdn6CRE_N4"
      },
      "source": [
        "**Перевіримо модель на власних даних.**"
      ]
    },
    {
      "cell_type": "code",
      "metadata": {
        "id": "pI0v9N59FYJb",
        "colab": {
          "base_uri": "https://localhost:8080/"
        },
        "outputId": "bb7a366a-596f-4ca4-c1c6-ce84f68c604b"
      },
      "source": [
        "custom = read_data('custom.txt')\n",
        "result = model.predict(custom)\n",
        "for i in range(len(result)):\n",
        "  if result[i] > 0.5:\n",
        "    print(str(custom[i]) + ': ' + str(result[i][0]) + ', probably enrolled')\n",
        "  else:\n",
        "    print(str(custom[i]) + ': ' + str(result[i][0]) + ', probably failed')"
      ],
      "execution_count": null,
      "outputs": [
        {
          "output_type": "stream",
          "name": "stdout",
          "text": [
            "[3 3 3 1]: 0.90760577, probably enrolled\n",
            "[4 3 5 0]: 0.06680328, probably failed\n",
            "[2 3 3 1]: 0.29630017, probably failed\n",
            "[4 4 4 0]: 0.90732765, probably enrolled\n"
          ]
        }
      ]
    },
    {
      "cell_type": "markdown",
      "metadata": {
        "id": "S8LumFvuIM03"
      },
      "source": [
        "Бачимо, що модель працює коректно."
      ]
    }
  ]
}