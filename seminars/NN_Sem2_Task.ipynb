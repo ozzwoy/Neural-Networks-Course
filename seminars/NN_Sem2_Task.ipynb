{
  "nbformat": 4,
  "nbformat_minor": 0,
  "metadata": {
    "colab": {
      "name": "NN-Sem2-Task.ipynb",
      "provenance": [],
      "collapsed_sections": []
    },
    "kernelspec": {
      "name": "python3",
      "display_name": "Python 3"
    },
    "language_info": {
      "name": "python"
    }
  },
  "cells": [
    {
      "cell_type": "code",
      "metadata": {
        "id": "0Vwa1H5Cklmt"
      },
      "source": [
        "import matplotlib.pyplot as plt\n",
        "import pandas as pd\n",
        "import seaborn as sns"
      ],
      "execution_count": null,
      "outputs": []
    },
    {
      "cell_type": "code",
      "metadata": {
        "colab": {
          "base_uri": "https://localhost:8080/",
          "height": 582
        },
        "id": "j0-zeFixl1vJ",
        "outputId": "befa1f2e-fa58-4222-8c96-ea02cf4cffa3"
      },
      "source": [
        "df = pd.read_csv('sample_data/howpop_train.csv')\n",
        "df.head(3).transpose()"
      ],
      "execution_count": null,
      "outputs": [
        {
          "output_type": "execute_result",
          "data": {
            "text/html": [
              "<div>\n",
              "<style scoped>\n",
              "    .dataframe tbody tr th:only-of-type {\n",
              "        vertical-align: middle;\n",
              "    }\n",
              "\n",
              "    .dataframe tbody tr th {\n",
              "        vertical-align: top;\n",
              "    }\n",
              "\n",
              "    .dataframe thead th {\n",
              "        text-align: right;\n",
              "    }\n",
              "</style>\n",
              "<table border=\"1\" class=\"dataframe\">\n",
              "  <thead>\n",
              "    <tr style=\"text-align: right;\">\n",
              "      <th></th>\n",
              "      <th>0</th>\n",
              "      <th>1</th>\n",
              "      <th>2</th>\n",
              "    </tr>\n",
              "  </thead>\n",
              "  <tbody>\n",
              "    <tr>\n",
              "      <th>url</th>\n",
              "      <td>https://habrahabr.ru/post/18284/</td>\n",
              "      <td>https://habrahabr.ru/post/18285/</td>\n",
              "      <td>https://habrahabr.ru/post/18286/</td>\n",
              "    </tr>\n",
              "    <tr>\n",
              "      <th>domain</th>\n",
              "      <td>habrahabr.ru</td>\n",
              "      <td>habrahabr.ru</td>\n",
              "      <td>habrahabr.ru</td>\n",
              "    </tr>\n",
              "    <tr>\n",
              "      <th>post_id</th>\n",
              "      <td>18284</td>\n",
              "      <td>18285</td>\n",
              "      <td>18286</td>\n",
              "    </tr>\n",
              "    <tr>\n",
              "      <th>published</th>\n",
              "      <td>2008-01-01 18:19:00</td>\n",
              "      <td>2008-01-01 18:30:00</td>\n",
              "      <td>2008-01-01 18:34:00</td>\n",
              "    </tr>\n",
              "    <tr>\n",
              "      <th>author</th>\n",
              "      <td>@Tapac</td>\n",
              "      <td>@DezmASter</td>\n",
              "      <td>@DezmASter</td>\n",
              "    </tr>\n",
              "    <tr>\n",
              "      <th>flow</th>\n",
              "      <td>develop</td>\n",
              "      <td>design</td>\n",
              "      <td>design</td>\n",
              "    </tr>\n",
              "    <tr>\n",
              "      <th>polling</th>\n",
              "      <td>False</td>\n",
              "      <td>False</td>\n",
              "      <td>False</td>\n",
              "    </tr>\n",
              "    <tr>\n",
              "      <th>content_len</th>\n",
              "      <td>4305</td>\n",
              "      <td>7344</td>\n",
              "      <td>8431</td>\n",
              "    </tr>\n",
              "    <tr>\n",
              "      <th>title</th>\n",
              "      <td>Новогодний подарок блоггерам — WordPress 2.3.2</td>\n",
              "      <td>Сумасшедшие яйца, или сервис для отслеживания ...</td>\n",
              "      <td>Сумасшедшие яйца, или сервис для отслеживания ...</td>\n",
              "    </tr>\n",
              "    <tr>\n",
              "      <th>comments</th>\n",
              "      <td>0</td>\n",
              "      <td>1</td>\n",
              "      <td>47</td>\n",
              "    </tr>\n",
              "    <tr>\n",
              "      <th>favs</th>\n",
              "      <td>0</td>\n",
              "      <td>1</td>\n",
              "      <td>72</td>\n",
              "    </tr>\n",
              "    <tr>\n",
              "      <th>views</th>\n",
              "      <td>236</td>\n",
              "      <td>353</td>\n",
              "      <td>1200</td>\n",
              "    </tr>\n",
              "    <tr>\n",
              "      <th>votes_plus</th>\n",
              "      <td>0</td>\n",
              "      <td>1</td>\n",
              "      <td>45</td>\n",
              "    </tr>\n",
              "    <tr>\n",
              "      <th>votes_minus</th>\n",
              "      <td>0</td>\n",
              "      <td>0</td>\n",
              "      <td>5</td>\n",
              "    </tr>\n",
              "    <tr>\n",
              "      <th>views_lognorm</th>\n",
              "      <td>-0.792687</td>\n",
              "      <td>-0.485214</td>\n",
              "      <td>0.44609</td>\n",
              "    </tr>\n",
              "    <tr>\n",
              "      <th>favs_lognorm</th>\n",
              "      <td>-1.34407</td>\n",
              "      <td>-0.831946</td>\n",
              "      <td>1.79402</td>\n",
              "    </tr>\n",
              "    <tr>\n",
              "      <th>comments_lognorm</th>\n",
              "      <td>-2.43687</td>\n",
              "      <td>-1.87319</td>\n",
              "      <td>0.574656</td>\n",
              "    </tr>\n",
              "  </tbody>\n",
              "</table>\n",
              "</div>"
            ],
            "text/plain": [
              "                                                               0  ...                                                  2\n",
              "url                             https://habrahabr.ru/post/18284/  ...                   https://habrahabr.ru/post/18286/\n",
              "domain                                              habrahabr.ru  ...                                       habrahabr.ru\n",
              "post_id                                                    18284  ...                                              18286\n",
              "published                                    2008-01-01 18:19:00  ...                                2008-01-01 18:34:00\n",
              "author                                                    @Tapac  ...                                         @DezmASter\n",
              "flow                                                     develop  ...                                             design\n",
              "polling                                                    False  ...                                              False\n",
              "content_len                                                 4305  ...                                               8431\n",
              "title             Новогодний подарок блоггерам — WordPress 2.3.2  ...  Сумасшедшие яйца, или сервис для отслеживания ...\n",
              "comments                                                       0  ...                                                 47\n",
              "favs                                                           0  ...                                                 72\n",
              "views                                                        236  ...                                               1200\n",
              "votes_plus                                                     0  ...                                                 45\n",
              "votes_minus                                                    0  ...                                                  5\n",
              "views_lognorm                                          -0.792687  ...                                            0.44609\n",
              "favs_lognorm                                            -1.34407  ...                                            1.79402\n",
              "comments_lognorm                                        -2.43687  ...                                           0.574656\n",
              "\n",
              "[17 rows x 3 columns]"
            ]
          },
          "metadata": {},
          "execution_count": 77
        }
      ]
    },
    {
      "cell_type": "markdown",
      "metadata": {
        "id": "zyh4CW6rqUcW"
      },
      "source": [
        "Видалення даних, що закінчуються на _lognorm."
      ]
    },
    {
      "cell_type": "code",
      "metadata": {
        "colab": {
          "base_uri": "https://localhost:8080/",
          "height": 269
        },
        "id": "K7BoR_6qqc_D",
        "outputId": "58f252fe-e1ec-4f0b-cbcf-0af7dbb29ae8"
      },
      "source": [
        "df = df[[x for x in df.columns if not x.endswith('_lognorm')]]\n",
        "df.describe().transpose()"
      ],
      "execution_count": null,
      "outputs": [
        {
          "output_type": "execute_result",
          "data": {
            "text/html": [
              "<div>\n",
              "<style scoped>\n",
              "    .dataframe tbody tr th:only-of-type {\n",
              "        vertical-align: middle;\n",
              "    }\n",
              "\n",
              "    .dataframe tbody tr th {\n",
              "        vertical-align: top;\n",
              "    }\n",
              "\n",
              "    .dataframe thead th {\n",
              "        text-align: right;\n",
              "    }\n",
              "</style>\n",
              "<table border=\"1\" class=\"dataframe\">\n",
              "  <thead>\n",
              "    <tr style=\"text-align: right;\">\n",
              "      <th></th>\n",
              "      <th>count</th>\n",
              "      <th>mean</th>\n",
              "      <th>std</th>\n",
              "      <th>min</th>\n",
              "      <th>25%</th>\n",
              "      <th>50%</th>\n",
              "      <th>75%</th>\n",
              "      <th>max</th>\n",
              "    </tr>\n",
              "  </thead>\n",
              "  <tbody>\n",
              "    <tr>\n",
              "      <th>post_id</th>\n",
              "      <td>134137.0</td>\n",
              "      <td>181307.054265</td>\n",
              "      <td>81766.350702</td>\n",
              "      <td>18284.0</td>\n",
              "      <td>115565.0</td>\n",
              "      <td>182666.0</td>\n",
              "      <td>257401.0</td>\n",
              "      <td>314088.0</td>\n",
              "    </tr>\n",
              "    <tr>\n",
              "      <th>content_len</th>\n",
              "      <td>134137.0</td>\n",
              "      <td>7516.929699</td>\n",
              "      <td>8724.771640</td>\n",
              "      <td>1.0</td>\n",
              "      <td>2179.0</td>\n",
              "      <td>4949.0</td>\n",
              "      <td>9858.0</td>\n",
              "      <td>352471.0</td>\n",
              "    </tr>\n",
              "    <tr>\n",
              "      <th>comments</th>\n",
              "      <td>134137.0</td>\n",
              "      <td>39.625994</td>\n",
              "      <td>62.398958</td>\n",
              "      <td>0.0</td>\n",
              "      <td>7.0</td>\n",
              "      <td>19.0</td>\n",
              "      <td>48.0</td>\n",
              "      <td>2266.0</td>\n",
              "    </tr>\n",
              "    <tr>\n",
              "      <th>favs</th>\n",
              "      <td>134137.0</td>\n",
              "      <td>71.999866</td>\n",
              "      <td>145.854135</td>\n",
              "      <td>0.0</td>\n",
              "      <td>8.0</td>\n",
              "      <td>27.0</td>\n",
              "      <td>78.0</td>\n",
              "      <td>8718.0</td>\n",
              "    </tr>\n",
              "    <tr>\n",
              "      <th>views</th>\n",
              "      <td>134137.0</td>\n",
              "      <td>16631.013084</td>\n",
              "      <td>31479.819691</td>\n",
              "      <td>3.0</td>\n",
              "      <td>2100.0</td>\n",
              "      <td>7600.0</td>\n",
              "      <td>18700.0</td>\n",
              "      <td>1730000.0</td>\n",
              "    </tr>\n",
              "    <tr>\n",
              "      <th>votes_plus</th>\n",
              "      <td>133566.0</td>\n",
              "      <td>35.536888</td>\n",
              "      <td>42.461073</td>\n",
              "      <td>0.0</td>\n",
              "      <td>11.0</td>\n",
              "      <td>22.0</td>\n",
              "      <td>45.0</td>\n",
              "      <td>1466.0</td>\n",
              "    </tr>\n",
              "    <tr>\n",
              "      <th>votes_minus</th>\n",
              "      <td>133566.0</td>\n",
              "      <td>8.050035</td>\n",
              "      <td>11.398282</td>\n",
              "      <td>0.0</td>\n",
              "      <td>2.0</td>\n",
              "      <td>5.0</td>\n",
              "      <td>10.0</td>\n",
              "      <td>445.0</td>\n",
              "    </tr>\n",
              "  </tbody>\n",
              "</table>\n",
              "</div>"
            ],
            "text/plain": [
              "                count           mean  ...       75%        max\n",
              "post_id      134137.0  181307.054265  ...  257401.0   314088.0\n",
              "content_len  134137.0    7516.929699  ...    9858.0   352471.0\n",
              "comments     134137.0      39.625994  ...      48.0     2266.0\n",
              "favs         134137.0      71.999866  ...      78.0     8718.0\n",
              "views        134137.0   16631.013084  ...   18700.0  1730000.0\n",
              "votes_plus   133566.0      35.536888  ...      45.0     1466.0\n",
              "votes_minus  133566.0       8.050035  ...      10.0      445.0\n",
              "\n",
              "[7 rows x 8 columns]"
            ]
          },
          "metadata": {},
          "execution_count": 78
        }
      ]
    },
    {
      "cell_type": "markdown",
      "metadata": {
        "id": "oMSkLWEsunEE"
      },
      "source": [
        "Перетворення даних у стовбці published до типу datetime."
      ]
    },
    {
      "cell_type": "code",
      "metadata": {
        "colab": {
          "base_uri": "https://localhost:8080/"
        },
        "id": "jT53mCdouwr1",
        "outputId": "b214c629-b441-43db-dc4c-be739a672386"
      },
      "source": [
        "df['published'] = df.published.astype('datetime64', errors='ignore')\n",
        "df['published'].head(3)"
      ],
      "execution_count": null,
      "outputs": [
        {
          "output_type": "execute_result",
          "data": {
            "text/plain": [
              "0   2008-01-01 18:19:00\n",
              "1   2008-01-01 18:30:00\n",
              "2   2008-01-01 18:34:00\n",
              "Name: published, dtype: datetime64[ns]"
            ]
          },
          "metadata": {},
          "execution_count": 79
        }
      ]
    },
    {
      "cell_type": "markdown",
      "metadata": {
        "id": "4N-IJM0SveXc"
      },
      "source": [
        "Створення кількох стовбців на основі даних про час публікації."
      ]
    },
    {
      "cell_type": "code",
      "metadata": {
        "colab": {
          "base_uri": "https://localhost:8080/",
          "height": 143
        },
        "id": "pE2lqnDsvkxr",
        "outputId": "4c439f92-359f-4b0c-bb0e-5408c53a82c6"
      },
      "source": [
        "df['year'] = [d.year for d in df.published]\n",
        "df['month'] = [d.month for d in df.published]\n",
        "df['dayofweek'] = [d.isoweekday() for d in df.published]\n",
        "df['hour'] = [d.hour for d in df.published]\n",
        "df[['year', 'month', 'dayofweek', 'hour']].head(3)"
      ],
      "execution_count": null,
      "outputs": [
        {
          "output_type": "execute_result",
          "data": {
            "text/html": [
              "<div>\n",
              "<style scoped>\n",
              "    .dataframe tbody tr th:only-of-type {\n",
              "        vertical-align: middle;\n",
              "    }\n",
              "\n",
              "    .dataframe tbody tr th {\n",
              "        vertical-align: top;\n",
              "    }\n",
              "\n",
              "    .dataframe thead th {\n",
              "        text-align: right;\n",
              "    }\n",
              "</style>\n",
              "<table border=\"1\" class=\"dataframe\">\n",
              "  <thead>\n",
              "    <tr style=\"text-align: right;\">\n",
              "      <th></th>\n",
              "      <th>year</th>\n",
              "      <th>month</th>\n",
              "      <th>dayofweek</th>\n",
              "      <th>hour</th>\n",
              "    </tr>\n",
              "  </thead>\n",
              "  <tbody>\n",
              "    <tr>\n",
              "      <th>0</th>\n",
              "      <td>2008</td>\n",
              "      <td>1</td>\n",
              "      <td>2</td>\n",
              "      <td>18</td>\n",
              "    </tr>\n",
              "    <tr>\n",
              "      <th>1</th>\n",
              "      <td>2008</td>\n",
              "      <td>1</td>\n",
              "      <td>2</td>\n",
              "      <td>18</td>\n",
              "    </tr>\n",
              "    <tr>\n",
              "      <th>2</th>\n",
              "      <td>2008</td>\n",
              "      <td>1</td>\n",
              "      <td>2</td>\n",
              "      <td>18</td>\n",
              "    </tr>\n",
              "  </tbody>\n",
              "</table>\n",
              "</div>"
            ],
            "text/plain": [
              "   year  month  dayofweek  hour\n",
              "0  2008      1          2    18\n",
              "1  2008      1          2    18\n",
              "2  2008      1          2    18"
            ]
          },
          "metadata": {},
          "execution_count": 80
        }
      ]
    },
    {
      "cell_type": "markdown",
      "metadata": {
        "id": "wRUj4bf1xJUJ"
      },
      "source": [
        "**1. В якому році та місяці було найбільше публікацій?**\n",
        "*   Березень 2016\n",
        "*   Березень 2015\n",
        "*   Квітень 2015\n",
        "*   Квітень 2016"
      ]
    },
    {
      "cell_type": "code",
      "metadata": {
        "colab": {
          "base_uri": "https://localhost:8080/",
          "height": 281
        },
        "id": "hh-tgYS3xgwf",
        "outputId": "c067fc2c-bc67-4061-bb06-565f08387702"
      },
      "source": [
        "sub_df = df[['year', 'month', 'post_id']]\n",
        "sub_df = sub_df[sub_df['year'].between(2015, 2016) & \n",
        "                sub_df['month'].between(3, 4)]\\\n",
        "                .groupby(['year', 'month']).count().plot()"
      ],
      "execution_count": null,
      "outputs": [
        {
          "output_type": "display_data",
          "data": {
            "image/png": "[encoded data removed]",
            "text/plain": [
              "<Figure size 432x288 with 1 Axes>"
            ]
          },
          "metadata": {
            "needs_background": "light"
          }
        }
      ]
    },
    {
      "cell_type": "markdown",
      "metadata": {
        "id": "GzF98g_z8j4S"
      },
      "source": [
        "Найбільше публікацій було в березні 2015 року."
      ]
    },
    {
      "cell_type": "markdown",
      "metadata": {
        "id": "dK87mg9g8o8r"
      },
      "source": [
        "**2. Проаналізуйте публікації в місяці з попереднього питання. Оберіть один або кілька варіантів.**\n",
        "* Один або кілька днів сильно виділяються із загальної картини\n",
        "* На Хабрі (habrahabr.ru) завжди більше статей, ніж на Гіктаймсі (geektimes.ru)\n",
        "* По суботах на Гіктаймсі та Хабрі публікують приблизно однакове число статей"
      ]
    },
    {
      "cell_type": "code",
      "metadata": {
        "colab": {
          "base_uri": "https://localhost:8080/",
          "height": 279
        },
        "id": "jfFmlmND84rI",
        "outputId": "430f364d-5c1a-4c1e-d62e-fec595a1edac"
      },
      "source": [
        "g = sns.barplot(data=df[['dayofweek', 'domain', 'post_id']]\\\n",
        "                [(df['year'] == 2015) & (df['month'] == 3)]\\\n",
        "                .groupby(['dayofweek', 'domain'], as_index=False).count(), \n",
        "                x='dayofweek', y='post_id', hue='domain')\n",
        "renamed = g.set(xlabel='day of week', ylabel='publications')"
      ],
      "execution_count": null,
      "outputs": [
        {
          "output_type": "display_data",
          "data": {
            "image/png": "[encoded data removed]",
            "text/plain": [
              "<Figure size 432x288 with 1 Axes>"
            ]
          },
          "metadata": {
            "needs_background": "light"
          }
        }
      ]
    },
    {
      "cell_type": "markdown",
      "metadata": {
        "id": "yRCOEVijy5tj"
      },
      "source": [
        "* Вівторок виділяється із загальної картини\n",
        "* На Хабрі завжди більше статей, ніж на Гіктаймсі\n",
        "* По суботах на Гіктаймсі та Хабрі публікують приблизно однакове число статей"
      ]
    },
    {
      "cell_type": "markdown",
      "metadata": {
        "id": "e9TGDqQCzt4-"
      },
      "source": [
        "**3. Коли найкраще опублікувати статтю? Оберіть один або кілька варіантів.**\n",
        "* Найбільше переглядів набирають статті, опубліковані о 12 годині дня\n",
        "* В опублікованих о 10 ранку постів найбільше коментарів\n",
        "* Найбільше переглядів набирають статті, опубліковані о 6 годині ранку\n",
        "* Максимальна кількість коментарів на Гіктаймсі набрала стаття, опублікована о 9\n",
        "годині вечора\n",
        "* На Хабрі денні статті коментують частіше, ніж вечірні"
      ]
    },
    {
      "cell_type": "code",
      "metadata": {
        "colab": {
          "base_uri": "https://localhost:8080/",
          "height": 295
        },
        "id": "xpYnaI4J08vG",
        "outputId": "e480e41e-9e3c-43ff-a5a0-ff574a3d8dfb"
      },
      "source": [
        "g = sns.barplot(data=df[['hour', 'domain', 'comments']]\\\n",
        "                .groupby(['hour', 'domain'], as_index=False).sum(), \n",
        "                x='hour', y='comments', hue='domain')\n",
        "renamed = g.set(title='comments per hour')"
      ],
      "execution_count": null,
      "outputs": [
        {
          "output_type": "display_data",
          "data": {
            "image/png": "[encoded data removed]",
            "text/plain": [
              "<Figure size 432x288 with 1 Axes>"
            ]
          },
          "metadata": {
            "needs_background": "light"
          }
        }
      ]
    },
    {
      "cell_type": "code",
      "metadata": {
        "colab": {
          "base_uri": "https://localhost:8080/",
          "height": 295
        },
        "id": "o0sQRrr82jrP",
        "outputId": "bbd155fe-63b9-4939-da18-b22ccd154420"
      },
      "source": [
        "g = sns.barplot(data=df[['hour', 'domain', 'views']]\\\n",
        "                .groupby(['hour', 'domain'], as_index=False).sum(), \n",
        "                x='hour', y='views', hue='domain')\n",
        "renamed = g.set(title='views per hour')"
      ],
      "execution_count": null,
      "outputs": [
        {
          "output_type": "display_data",
          "data": {
            "image/png": "[encoded data removed]",
            "text/plain": [
              "<Figure size 432x288 with 1 Axes>"
            ]
          },
          "metadata": {
            "needs_background": "light"
          }
        }
      ]
    },
    {
      "cell_type": "code",
      "metadata": {
        "colab": {
          "base_uri": "https://localhost:8080/",
          "height": 295
        },
        "id": "MMpUSOme3QA5",
        "outputId": "ec2598f5-958d-47bf-b4ba-1472e33ca5eb"
      },
      "source": [
        "g = sns.barplot(data=df[['hour', 'domain', 'comments']]\\\n",
        "                .groupby(['hour', 'domain'], as_index=False).max(), \n",
        "                x='hour', y='comments', hue='domain')\n",
        "renamed = g.set(title='max comments on post per hour')"
      ],
      "execution_count": null,
      "outputs": [
        {
          "output_type": "display_data",
          "data": {
            "image/png": "[encoded data removed]",
            "text/plain": [
              "<Figure size 432x288 with 1 Axes>"
            ]
          },
          "metadata": {
            "needs_background": "light"
          }
        }
      ]
    },
    {
      "cell_type": "markdown",
      "metadata": {
        "id": "vhNihn1f2urv"
      },
      "source": [
        "* Найбільше переглядів набирають статті, опубліковані о 12 годині дня\n",
        "* На Хабрі денні статті коментують частіше, ніж вечірні"
      ]
    },
    {
      "cell_type": "markdown",
      "metadata": {
        "id": "Id-GVh9d56SR"
      },
      "source": [
        "**4. Кого з топ-20 авторів найчастіше мінусують?**\n",
        "* @Mordatyj\n",
        "* @Mithgol\n",
        "* @alizar\n",
        "* @ilya42"
      ]
    },
    {
      "cell_type": "markdown",
      "metadata": {
        "id": "ADIEhhl7J0-Y"
      },
      "source": [
        "**Примітка:** рейтингом автора вважатимемо загальну кількість переглядів його постів."
      ]
    },
    {
      "cell_type": "code",
      "metadata": {
        "id": "XBT7hoHt5-L3"
      },
      "source": [
        "top_authors = df[['author', 'views']].groupby('author').sum()\\\n",
        ".sort_values(by=['views'], ascending=False).head(20).index.values.tolist()"
      ],
      "execution_count": null,
      "outputs": []
    },
    {
      "cell_type": "code",
      "metadata": {
        "colab": {
          "base_uri": "https://localhost:8080/",
          "height": 386
        },
        "id": "ZbbtDPnVN0nt",
        "outputId": "fa1241d9-f00b-4110-ca64-f3193c5f41be"
      },
      "source": [
        "df[['author', 'votes_minus']][df['author'].isin(top_authors)]\\\n",
        "                .groupby(['author']).sum()\\\n",
        "                .plot(kind='bar', rot='90')"
      ],
      "execution_count": null,
      "outputs": [
        {
          "output_type": "execute_result",
          "data": {
            "text/plain": [
              "<matplotlib.axes._subplots.AxesSubplot at 0x7f01c15a4cd0>"
            ]
          },
          "metadata": {},
          "execution_count": 87
        },
        {
          "output_type": "display_data",
          "data": {
            "image/png": "[encoded data removed]",
            "text/plain": [
              "<Figure size 432x288 with 1 Axes>"
            ]
          },
          "metadata": {
            "needs_background": "light"
          }
        }
      ]
    },
    {
      "cell_type": "markdown",
      "metadata": {
        "id": "gaEOhiM6QR1c"
      },
      "source": [
        "Відповідь: @alizar."
      ]
    },
    {
      "cell_type": "markdown",
      "metadata": {
        "id": "_QjdIMrQQfxr"
      },
      "source": [
        "**5. Порівняйте суботи і понеділки. Чи правда, що по суботах автори пишуть в основному вдень, а по понеділках – в основному ввечері?**"
      ]
    },
    {
      "cell_type": "code",
      "metadata": {
        "colab": {
          "base_uri": "https://localhost:8080/",
          "height": 279
        },
        "id": "aCa6Y3PpQqi4",
        "outputId": "0403e656-8496-4d53-a37a-1d3177e36bea"
      },
      "source": [
        "g = sns.barplot(data=df[['post_id', 'dayofweek', 'hour']]\\\n",
        "                [df['dayofweek'].isin([1, 6])]\\\n",
        "                .groupby(['dayofweek', 'hour'], as_index=False).count(), \n",
        "                x='hour', y='post_id', hue='dayofweek')\n",
        "renamed = g.set(ylabel='publications')"
      ],
      "execution_count": null,
      "outputs": [
        {
          "output_type": "display_data",
          "data": {
            "image/png": "[encoded data removed]",
            "text/plain": [
              "<Figure size 432x288 with 1 Axes>"
            ]
          },
          "metadata": {
            "needs_background": "light"
          }
        }
      ]
    },
    {
      "cell_type": "markdown",
      "metadata": {
        "id": "JwZ2Z6xER_g3"
      },
      "source": [
        "Частково правда: по понеділках автори пишуть в основному зранку і вдень, а по суботах – в основному вдень і ввечері."
      ]
    }
  ]
}