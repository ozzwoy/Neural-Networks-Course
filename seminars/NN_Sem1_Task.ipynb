{
  "nbformat": 4,
  "nbformat_minor": 0,
  "metadata": {
    "colab": {
      "name": "NN-Sem1-Task.ipynb",
      "provenance": [],
      "collapsed_sections": []
    },
    "kernelspec": {
      "name": "python3",
      "display_name": "Python 3"
    },
    "language_info": {
      "name": "python"
    }
  },
  "cells": [
    {
      "cell_type": "code",
      "metadata": {
        "id": "-JdsgjbWaz5h"
      },
      "source": [
        "import numpy as np\n",
        "import pandas as pd"
      ],
      "execution_count": null,
      "outputs": []
    },
    {
      "cell_type": "code",
      "metadata": {
        "id": "Fwvg5TS8bctk"
      },
      "source": [
        "np.set_printoptions(precision=2)"
      ],
      "execution_count": null,
      "outputs": []
    },
    {
      "cell_type": "markdown",
      "metadata": {
        "id": "SxIXEe6_bf43"
      },
      "source": [
        "**Зчитуємо дані з файлу**"
      ]
    },
    {
      "cell_type": "code",
      "metadata": {
        "id": "B6s-upw-biIP"
      },
      "source": [
        "data = pd.read_csv('sample_data/adult_data.csv', sep=',')"
      ],
      "execution_count": null,
      "outputs": []
    },
    {
      "cell_type": "markdown",
      "metadata": {
        "id": "yll6KTZEhHA-"
      },
      "source": [
        "**1. Скільки чоловіків та жінок (ознака sex) представлено в цьому наборі даних?**"
      ]
    },
    {
      "cell_type": "code",
      "metadata": {
        "colab": {
          "base_uri": "https://localhost:8080/"
        },
        "id": "-KGpXkOehRJo",
        "outputId": "6e4ba4c5-90d5-4268-d8c1-1712d5f7c2cc"
      },
      "source": [
        "counts = len(data[data['sex'] == 'Male']), len(data[data['sex'] == 'Female'])\n",
        "print('Males: ', counts[0])\n",
        "print('Females: ', counts[1])"
      ],
      "execution_count": null,
      "outputs": [
        {
          "output_type": "stream",
          "name": "stdout",
          "text": [
            "Males:  21790\n",
            "Females:  10771\n"
          ]
        }
      ]
    },
    {
      "cell_type": "markdown",
      "metadata": {
        "id": "p5_PYXNijCs1"
      },
      "source": [
        "**2. Який середній вік жінок (ознака age)?**"
      ]
    },
    {
      "cell_type": "code",
      "metadata": {
        "colab": {
          "base_uri": "https://localhost:8080/"
        },
        "id": "Mb8EsEv9jIoB",
        "outputId": "7d11b6f7-0f2b-4508-f9a8-1e2ba3c9a844"
      },
      "source": [
        "data[data['sex'] == 'Female']['age'].mean()"
      ],
      "execution_count": null,
      "outputs": [
        {
          "output_type": "execute_result",
          "data": {
            "text/plain": [
              "36.85823043357163"
            ]
          },
          "metadata": {},
          "execution_count": 5
        }
      ]
    },
    {
      "cell_type": "markdown",
      "metadata": {
        "id": "wfKWl-vwju_l"
      },
      "source": [
        "**3. Яка частка громадян Німеччини (ознака native-country)?**"
      ]
    },
    {
      "cell_type": "code",
      "metadata": {
        "colab": {
          "base_uri": "https://localhost:8080/"
        },
        "id": "pi_E0tBYjwju",
        "outputId": "2e684ff4-aff9-48b1-cbaa-6b2e3ba29a12"
      },
      "source": [
        "len(data[data['native-country'] == 'Germany']) / len(data)"
      ],
      "execution_count": null,
      "outputs": [
        {
          "output_type": "execute_result",
          "data": {
            "text/plain": [
              "0.004207487485028101"
            ]
          },
          "metadata": {},
          "execution_count": 48
        }
      ]
    },
    {
      "cell_type": "markdown",
      "metadata": {
        "id": "pPwbLbehC9RZ"
      },
      "source": [
        "**4. Які середні значення та середньоквадратичні відхилення віку тих, хто отримує більше 50К в рік (ознака salary) та менше або рівно 50К в рік?**"
      ]
    },
    {
      "cell_type": "code",
      "metadata": {
        "colab": {
          "base_uri": "https://localhost:8080/"
        },
        "id": "Ny1SZsfrEmNt",
        "outputId": "a11b14b9-2f95-4d66-ab65-3f3a0eb59dff"
      },
      "source": [
        "frame = data[data['salary'] == '>50K']['age']\n",
        "print('              Mean            Standard Deviation')\n",
        "print('>50K: ', frame.mean(), ' ', frame.std())\n",
        "frame = data[data['salary'] == '<=50K']['age']\n",
        "print('<=50K: ', frame.mean(), ' ', frame.std())"
      ],
      "execution_count": null,
      "outputs": [
        {
          "output_type": "stream",
          "name": "stdout",
          "text": [
            "              Mean            Standard Deviation\n",
            ">50K:  44.24984058155847   10.51902771985177\n",
            "<=50K:  36.78373786407767   14.020088490824813\n"
          ]
        }
      ]
    },
    {
      "cell_type": "markdown",
      "metadata": {
        "id": "-z-pquaGF4Xx"
      },
      "source": [
        "**5. Чи правда, що люди, які отримують більше 50К, мають як мінімум вищу освіту (ознака education: Bachelors, Prof-school, Assoc-acdm, Assoc-voc, Masters, Doctorate)?**"
      ]
    },
    {
      "cell_type": "code",
      "metadata": {
        "colab": {
          "base_uri": "https://localhost:8080/"
        },
        "id": "_Hpm9y2ZF-58",
        "outputId": "f1fbf08d-13b3-43fd-9ddf-df94a173e8fb"
      },
      "source": [
        "data[data['salary'] == '>50K']['education'].apply(\n",
        "    lambda x: x in ['Bachelors', 'Prof-school', 'Assoc-acdm', 'Assoc-voc', \n",
        "                    'Masters', 'Doctorate']).all()"
      ],
      "execution_count": null,
      "outputs": [
        {
          "output_type": "execute_result",
          "data": {
            "text/plain": [
              "False"
            ]
          },
          "metadata": {},
          "execution_count": 9
        }
      ]
    },
    {
      "cell_type": "markdown",
      "metadata": {
        "id": "OtNLVCU0RuTw"
      },
      "source": [
        "**6. Виведіть статистику віку для кожної раси (ознака race) і статі. Використовуйте groupby та describe. Знайдіть максимальний вік чоловіків раси Amer-Indian-Eskimo.**"
      ]
    },
    {
      "cell_type": "code",
      "metadata": {
        "colab": {
          "base_uri": "https://localhost:8080/",
          "height": 265
        },
        "id": "e30vVrUIR4Zw",
        "outputId": "070a29f1-38f1-435f-cce3-7e7afe83a938"
      },
      "source": [
        "data.groupby('race')[['age', 'race']].describe()"
      ],
      "execution_count": null,
      "outputs": [
        {
          "output_type": "execute_result",
          "data": {
            "text/html": [
              "<div>\n",
              "<style scoped>\n",
              "    .dataframe tbody tr th:only-of-type {\n",
              "        vertical-align: middle;\n",
              "    }\n",
              "\n",
              "    .dataframe tbody tr th {\n",
              "        vertical-align: top;\n",
              "    }\n",
              "\n",
              "    .dataframe thead tr th {\n",
              "        text-align: left;\n",
              "    }\n",
              "\n",
              "    .dataframe thead tr:last-of-type th {\n",
              "        text-align: right;\n",
              "    }\n",
              "</style>\n",
              "<table border=\"1\" class=\"dataframe\">\n",
              "  <thead>\n",
              "    <tr>\n",
              "      <th></th>\n",
              "      <th colspan=\"8\" halign=\"left\">age</th>\n",
              "    </tr>\n",
              "    <tr>\n",
              "      <th></th>\n",
              "      <th>count</th>\n",
              "      <th>mean</th>\n",
              "      <th>std</th>\n",
              "      <th>min</th>\n",
              "      <th>25%</th>\n",
              "      <th>50%</th>\n",
              "      <th>75%</th>\n",
              "      <th>max</th>\n",
              "    </tr>\n",
              "    <tr>\n",
              "      <th>race</th>\n",
              "      <th></th>\n",
              "      <th></th>\n",
              "      <th></th>\n",
              "      <th></th>\n",
              "      <th></th>\n",
              "      <th></th>\n",
              "      <th></th>\n",
              "      <th></th>\n",
              "    </tr>\n",
              "  </thead>\n",
              "  <tbody>\n",
              "    <tr>\n",
              "      <th>Amer-Indian-Eskimo</th>\n",
              "      <td>311.0</td>\n",
              "      <td>37.173633</td>\n",
              "      <td>12.447130</td>\n",
              "      <td>17.0</td>\n",
              "      <td>28.0</td>\n",
              "      <td>35.0</td>\n",
              "      <td>45.5</td>\n",
              "      <td>82.0</td>\n",
              "    </tr>\n",
              "    <tr>\n",
              "      <th>Asian-Pac-Islander</th>\n",
              "      <td>1039.0</td>\n",
              "      <td>37.746872</td>\n",
              "      <td>12.825133</td>\n",
              "      <td>17.0</td>\n",
              "      <td>28.0</td>\n",
              "      <td>36.0</td>\n",
              "      <td>45.0</td>\n",
              "      <td>90.0</td>\n",
              "    </tr>\n",
              "    <tr>\n",
              "      <th>Black</th>\n",
              "      <td>3124.0</td>\n",
              "      <td>37.767926</td>\n",
              "      <td>12.759290</td>\n",
              "      <td>17.0</td>\n",
              "      <td>28.0</td>\n",
              "      <td>36.0</td>\n",
              "      <td>46.0</td>\n",
              "      <td>90.0</td>\n",
              "    </tr>\n",
              "    <tr>\n",
              "      <th>Other</th>\n",
              "      <td>271.0</td>\n",
              "      <td>33.457565</td>\n",
              "      <td>11.538865</td>\n",
              "      <td>17.0</td>\n",
              "      <td>25.0</td>\n",
              "      <td>31.0</td>\n",
              "      <td>41.0</td>\n",
              "      <td>77.0</td>\n",
              "    </tr>\n",
              "    <tr>\n",
              "      <th>White</th>\n",
              "      <td>27816.0</td>\n",
              "      <td>38.769881</td>\n",
              "      <td>13.782306</td>\n",
              "      <td>17.0</td>\n",
              "      <td>28.0</td>\n",
              "      <td>37.0</td>\n",
              "      <td>48.0</td>\n",
              "      <td>90.0</td>\n",
              "    </tr>\n",
              "  </tbody>\n",
              "</table>\n",
              "</div>"
            ],
            "text/plain": [
              "                        age                                                    \n",
              "                      count       mean        std   min   25%   50%   75%   max\n",
              "race                                                                           \n",
              "Amer-Indian-Eskimo    311.0  37.173633  12.447130  17.0  28.0  35.0  45.5  82.0\n",
              "Asian-Pac-Islander   1039.0  37.746872  12.825133  17.0  28.0  36.0  45.0  90.0\n",
              "Black                3124.0  37.767926  12.759290  17.0  28.0  36.0  46.0  90.0\n",
              "Other                 271.0  33.457565  11.538865  17.0  25.0  31.0  41.0  77.0\n",
              "White               27816.0  38.769881  13.782306  17.0  28.0  37.0  48.0  90.0"
            ]
          },
          "metadata": {},
          "execution_count": 10
        }
      ]
    },
    {
      "cell_type": "code",
      "metadata": {
        "colab": {
          "base_uri": "https://localhost:8080/",
          "height": 172
        },
        "id": "a9d63jCrWEdS",
        "outputId": "15ce790a-7f01-4e2a-fcde-e902588e13d8"
      },
      "source": [
        "data.groupby('sex')[['age', 'sex']].describe()"
      ],
      "execution_count": null,
      "outputs": [
        {
          "output_type": "execute_result",
          "data": {
            "text/html": [
              "<div>\n",
              "<style scoped>\n",
              "    .dataframe tbody tr th:only-of-type {\n",
              "        vertical-align: middle;\n",
              "    }\n",
              "\n",
              "    .dataframe tbody tr th {\n",
              "        vertical-align: top;\n",
              "    }\n",
              "\n",
              "    .dataframe thead tr th {\n",
              "        text-align: left;\n",
              "    }\n",
              "\n",
              "    .dataframe thead tr:last-of-type th {\n",
              "        text-align: right;\n",
              "    }\n",
              "</style>\n",
              "<table border=\"1\" class=\"dataframe\">\n",
              "  <thead>\n",
              "    <tr>\n",
              "      <th></th>\n",
              "      <th colspan=\"8\" halign=\"left\">age</th>\n",
              "    </tr>\n",
              "    <tr>\n",
              "      <th></th>\n",
              "      <th>count</th>\n",
              "      <th>mean</th>\n",
              "      <th>std</th>\n",
              "      <th>min</th>\n",
              "      <th>25%</th>\n",
              "      <th>50%</th>\n",
              "      <th>75%</th>\n",
              "      <th>max</th>\n",
              "    </tr>\n",
              "    <tr>\n",
              "      <th>sex</th>\n",
              "      <th></th>\n",
              "      <th></th>\n",
              "      <th></th>\n",
              "      <th></th>\n",
              "      <th></th>\n",
              "      <th></th>\n",
              "      <th></th>\n",
              "      <th></th>\n",
              "    </tr>\n",
              "  </thead>\n",
              "  <tbody>\n",
              "    <tr>\n",
              "      <th>Female</th>\n",
              "      <td>10771.0</td>\n",
              "      <td>36.858230</td>\n",
              "      <td>14.013697</td>\n",
              "      <td>17.0</td>\n",
              "      <td>25.0</td>\n",
              "      <td>35.0</td>\n",
              "      <td>46.0</td>\n",
              "      <td>90.0</td>\n",
              "    </tr>\n",
              "    <tr>\n",
              "      <th>Male</th>\n",
              "      <td>21790.0</td>\n",
              "      <td>39.433547</td>\n",
              "      <td>13.370630</td>\n",
              "      <td>17.0</td>\n",
              "      <td>29.0</td>\n",
              "      <td>38.0</td>\n",
              "      <td>48.0</td>\n",
              "      <td>90.0</td>\n",
              "    </tr>\n",
              "  </tbody>\n",
              "</table>\n",
              "</div>"
            ],
            "text/plain": [
              "            age                                                    \n",
              "          count       mean        std   min   25%   50%   75%   max\n",
              "sex                                                                \n",
              "Female  10771.0  36.858230  14.013697  17.0  25.0  35.0  46.0  90.0\n",
              "Male    21790.0  39.433547  13.370630  17.0  29.0  38.0  48.0  90.0"
            ]
          },
          "metadata": {},
          "execution_count": 11
        }
      ]
    },
    {
      "cell_type": "code",
      "metadata": {
        "colab": {
          "base_uri": "https://localhost:8080/"
        },
        "id": "sq5ERUEZWef-",
        "outputId": "dec1c18a-fd2e-4adb-92bf-a5c089602589"
      },
      "source": [
        "data[data['race'] == 'Amer-Indian-Eskimo']['age'].max()"
      ],
      "execution_count": null,
      "outputs": [
        {
          "output_type": "execute_result",
          "data": {
            "text/plain": [
              "82"
            ]
          },
          "metadata": {},
          "execution_count": 12
        }
      ]
    },
    {
      "cell_type": "markdown",
      "metadata": {
        "id": "mBr9WgjRWxi7"
      },
      "source": [
        "**7. Серед кого більша частка з високою зарплатнею (>50K): серед одружених або неодружених чоловіків (ознака marital-status)? Одруженими вважаємо тих, у кого marital-status починається з Married (Married-civ-spouse, Married-spouse-absent, Married-AF-spouse), інших вважаємо неодруженими.**"
      ]
    },
    {
      "cell_type": "code",
      "metadata": {
        "colab": {
          "base_uri": "https://localhost:8080/"
        },
        "id": "Sq-qObNoW6Qy",
        "outputId": "21abe2b0-b3fc-4b10-9b95-ff6eac80f87d"
      },
      "source": [
        "rich = data[(data['salary'] == '>50K') & (data['sex'] == 'Male')]\n",
        "married = len(rich[rich['marital-status']\n",
        "                   .apply(lambda x: x.startswith('Married'))])\n",
        "bachelors = len(rich) - married\n",
        "\n",
        "print('Married: ', married)\n",
        "print('Bachelors: ', bachelors)\n",
        "\n",
        "if married > bachelors:\n",
        "  print('Married prevail')\n",
        "elif married < bachelors:\n",
        "  print('Bachelors prevail')\n",
        "else:\n",
        "  print('Nobody prevails')"
      ],
      "execution_count": null,
      "outputs": [
        {
          "output_type": "stream",
          "name": "stdout",
          "text": [
            "Married:  5965\n",
            "Bachelors:  697\n",
            "Married prevail\n"
          ]
        }
      ]
    },
    {
      "cell_type": "markdown",
      "metadata": {
        "id": "2BK6NNGeiVuJ"
      },
      "source": [
        "**8. Яку максимальну кількість годин людина працює на тиждень (ознака hours-per-week)? Скільки людей працюють таку кількість годин і який серед них відсоток заробляють багато?**"
      ]
    },
    {
      "cell_type": "code",
      "metadata": {
        "colab": {
          "base_uri": "https://localhost:8080/"
        },
        "id": "MXgm72-pie_G",
        "outputId": "184ac0f0-d54f-4b9c-a02b-bdbb209242e3"
      },
      "source": [
        "max_hours = data['hours-per-week'].max()\n",
        "print('Max hours per week: ', max_hours)\n",
        "slaves = data[data['hours-per-week'] == max_hours]\n",
        "print('People working max hours: ', len(slaves))\n",
        "rich_slaves = slaves[slaves['salary'] == '>50K']\n",
        "print('Percent of making >50K: ', len(rich_slaves) / len(slaves))"
      ],
      "execution_count": null,
      "outputs": [
        {
          "output_type": "stream",
          "name": "stdout",
          "text": [
            "Max hours per week:  99\n",
            "People working max hours:  85\n",
            "Percent of making >50K:  0.29411764705882354\n"
          ]
        }
      ]
    },
    {
      "cell_type": "markdown",
      "metadata": {
        "id": "pV-WJtbfj3zE"
      },
      "source": [
        "**9. Порахуйте середній час роботи (ознака hours-per-week) тих, хто заробляє мало і багато для кожної країни (ознака native-country).**"
      ]
    },
    {
      "cell_type": "code",
      "metadata": {
        "colab": {
          "base_uri": "https://localhost:8080/"
        },
        "id": "pW7QpfNzj-fA",
        "outputId": "83f9dadf-fff9-44d5-84ce-ccd8d047f7f0"
      },
      "source": [
        "for country, sub_df in data.groupby('native-country'):\n",
        "  print(country)\n",
        "  series = sub_df.groupby('salary')['hours-per-week'].agg(np.mean)\n",
        "  frame = pd.DataFrame({'salary': series.index, \n",
        "                        'mean hours per week': series.values})\n",
        "  print(frame.to_string(index=False) + '\\n')"
      ],
      "execution_count": null,
      "outputs": [
        {
          "output_type": "stream",
          "name": "stdout",
          "text": [
            "?\n",
            "salary  mean hours per week\n",
            " <=50K            40.164760\n",
            "  >50K            45.547945\n",
            "\n",
            "Cambodia\n",
            "salary  mean hours per week\n",
            " <=50K            41.416667\n",
            "  >50K            40.000000\n",
            "\n",
            "Canada\n",
            "salary  mean hours per week\n",
            " <=50K            37.914634\n",
            "  >50K            45.641026\n",
            "\n",
            "China\n",
            "salary  mean hours per week\n",
            " <=50K            37.381818\n",
            "  >50K            38.900000\n",
            "\n",
            "Columbia\n",
            "salary  mean hours per week\n",
            " <=50K            38.684211\n",
            "  >50K            50.000000\n",
            "\n",
            "Cuba\n",
            "salary  mean hours per week\n",
            " <=50K            37.985714\n",
            "  >50K            42.440000\n",
            "\n",
            "Dominican-Republic\n",
            "salary  mean hours per week\n",
            " <=50K            42.338235\n",
            "  >50K            47.000000\n",
            "\n",
            "Ecuador\n",
            "salary  mean hours per week\n",
            " <=50K            38.041667\n",
            "  >50K            48.750000\n",
            "\n",
            "El-Salvador\n",
            "salary  mean hours per week\n",
            " <=50K            36.030928\n",
            "  >50K            45.000000\n",
            "\n",
            "England\n",
            "salary  mean hours per week\n",
            " <=50K            40.483333\n",
            "  >50K            44.533333\n",
            "\n",
            "France\n",
            "salary  mean hours per week\n",
            " <=50K            41.058824\n",
            "  >50K            50.750000\n",
            "\n",
            "Germany\n",
            "salary  mean hours per week\n",
            " <=50K            39.139785\n",
            "  >50K            44.977273\n",
            "\n",
            "Greece\n",
            "salary  mean hours per week\n",
            " <=50K            41.809524\n",
            "  >50K            50.625000\n",
            "\n",
            "Guatemala\n",
            "salary  mean hours per week\n",
            " <=50K            39.360656\n",
            "  >50K            36.666667\n",
            "\n",
            "Haiti\n",
            "salary  mean hours per week\n",
            " <=50K               36.325\n",
            "  >50K               42.750\n",
            "\n",
            "Holand-Netherlands\n",
            "salary  mean hours per week\n",
            " <=50K                   40\n",
            "\n",
            "Honduras\n",
            "salary  mean hours per week\n",
            " <=50K            34.333333\n",
            "  >50K            60.000000\n",
            "\n",
            "Hong\n",
            "salary  mean hours per week\n",
            " <=50K            39.142857\n",
            "  >50K            45.000000\n",
            "\n",
            "Hungary\n",
            "salary  mean hours per week\n",
            " <=50K                 31.3\n",
            "  >50K                 50.0\n",
            "\n",
            "India\n",
            "salary  mean hours per week\n",
            " <=50K            38.233333\n",
            "  >50K            46.475000\n",
            "\n",
            "Iran\n",
            "salary  mean hours per week\n",
            " <=50K                41.44\n",
            "  >50K                47.50\n",
            "\n",
            "Ireland\n",
            "salary  mean hours per week\n",
            " <=50K            40.947368\n",
            "  >50K            48.000000\n",
            "\n",
            "Italy\n",
            "salary  mean hours per week\n",
            " <=50K               39.625\n",
            "  >50K               45.400\n",
            "\n",
            "Jamaica\n",
            "salary  mean hours per week\n",
            " <=50K            38.239437\n",
            "  >50K            41.100000\n",
            "\n",
            "Japan\n",
            "salary  mean hours per week\n",
            " <=50K            41.000000\n",
            "  >50K            47.958333\n",
            "\n",
            "Laos\n",
            "salary  mean hours per week\n",
            " <=50K               40.375\n",
            "  >50K               40.000\n",
            "\n",
            "Mexico\n",
            "salary  mean hours per week\n",
            " <=50K            40.003279\n",
            "  >50K            46.575758\n",
            "\n",
            "Nicaragua\n",
            "salary  mean hours per week\n",
            " <=50K             36.09375\n",
            "  >50K             37.50000\n",
            "\n",
            "Outlying-US(Guam-USVI-etc)\n",
            "salary  mean hours per week\n",
            " <=50K            41.857143\n",
            "\n",
            "Peru\n",
            "salary  mean hours per week\n",
            " <=50K            35.068966\n",
            "  >50K            40.000000\n",
            "\n",
            "Philippines\n",
            "salary  mean hours per week\n",
            " <=50K            38.065693\n",
            "  >50K            43.032787\n",
            "\n",
            "Poland\n",
            "salary  mean hours per week\n",
            " <=50K            38.166667\n",
            "  >50K            39.000000\n",
            "\n",
            "Portugal\n",
            "salary  mean hours per week\n",
            " <=50K            41.939394\n",
            "  >50K            41.500000\n",
            "\n",
            "Puerto-Rico\n",
            "salary  mean hours per week\n",
            " <=50K            38.470588\n",
            "  >50K            39.416667\n",
            "\n",
            "Scotland\n",
            "salary  mean hours per week\n",
            " <=50K            39.444444\n",
            "  >50K            46.666667\n",
            "\n",
            "South\n",
            "salary  mean hours per week\n",
            " <=50K             40.15625\n",
            "  >50K             51.43750\n",
            "\n",
            "Taiwan\n",
            "salary  mean hours per week\n",
            " <=50K            33.774194\n",
            "  >50K            46.800000\n",
            "\n",
            "Thailand\n",
            "salary  mean hours per week\n",
            " <=50K            42.866667\n",
            "  >50K            58.333333\n",
            "\n",
            "Trinadad&Tobago\n",
            "salary  mean hours per week\n",
            " <=50K            37.058824\n",
            "  >50K            40.000000\n",
            "\n",
            "United-States\n",
            "salary  mean hours per week\n",
            " <=50K            38.799127\n",
            "  >50K            45.505369\n",
            "\n",
            "Vietnam\n",
            "salary  mean hours per week\n",
            " <=50K            37.193548\n",
            "  >50K            39.200000\n",
            "\n",
            "Yugoslavia\n",
            "salary  mean hours per week\n",
            " <=50K                 41.6\n",
            "  >50K                 49.5\n",
            "\n"
          ]
        }
      ]
    },
    {
      "cell_type": "markdown",
      "metadata": {
        "id": "mhRGhR_El-dl"
      },
      "source": [
        "For some data samples the native country is unknown (\"?\"). For them statistics is provided too."
      ]
    }
  ]
}