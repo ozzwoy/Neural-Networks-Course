{
  "nbformat": 4,
  "nbformat_minor": 0,
  "metadata": {
    "colab": {
      "name": "NN-Sem4-Task.ipynb",
      "provenance": [],
      "collapsed_sections": []
    },
    "kernelspec": {
      "name": "python3",
      "display_name": "Python 3"
    },
    "language_info": {
      "name": "python"
    }
  },
  "cells": [
    {
      "cell_type": "markdown",
      "metadata": {
        "id": "mGtwsh8mC0D9"
      },
      "source": [
        "**1. Припустимо, що у вас є багатошаровий перцептрон, що складається з одного вхідного шару з 10 нейронами, за яким є ще один прихований шар з 50 нейронами і один вихідний шар з 3 нейронами. Всі штучні нейрони застосовують функцію активації ReLU.**\n",
        "\n"
      ]
    },
    {
      "cell_type": "markdown",
      "metadata": {
        "id": "as1uL5tGDF8O"
      },
      "source": [
        "* **Яка форма вхідної матриці $X$?**"
      ]
    },
    {
      "cell_type": "markdown",
      "metadata": {
        "id": "0Pf6vVecDJGW"
      },
      "source": [
        "$X$ має розмірність (10 X 1)."
      ]
    },
    {
      "cell_type": "markdown",
      "metadata": {
        "id": "97md5VtaEifK"
      },
      "source": [
        "* **Що можна сказати про форму вектора ваг $W_h$ прихованого шару?**"
      ]
    },
    {
      "cell_type": "markdown",
      "metadata": {
        "id": "nDP0IivlFEWC"
      },
      "source": [
        "$W_h$ має розмірність (50 X 10)."
      ]
    },
    {
      "cell_type": "markdown",
      "metadata": {
        "id": "d14A2eLVH9mC"
      },
      "source": [
        "* **... і форму його вектора зсувів $b_h$?**"
      ]
    },
    {
      "cell_type": "markdown",
      "metadata": {
        "id": "EN4uwCSsISGv"
      },
      "source": [
        "$b_h$ — вектор-стовбчик довжини 50."
      ]
    },
    {
      "cell_type": "markdown",
      "metadata": {
        "id": "Oxezn6egJl67"
      },
      "source": [
        "* **Яка форма вектора ваг $W_0$ вихідного шару?**"
      ]
    },
    {
      "cell_type": "markdown",
      "metadata": {
        "id": "cs9AbypGKS0n"
      },
      "source": [
        "$W_0$ має розмірність (3 X 50)."
      ]
    },
    {
      "cell_type": "markdown",
      "metadata": {
        "id": "bo0cI0tEKmxY"
      },
      "source": [
        "* **... і форма його вектора зсувів $b_0$?**"
      ]
    },
    {
      "cell_type": "markdown",
      "metadata": {
        "id": "HlxHPI09K27R"
      },
      "source": [
        "$b_0$ — вектор-стовбчик довжини 3."
      ]
    },
    {
      "cell_type": "markdown",
      "metadata": {
        "id": "rmh-8_cPK_s7"
      },
      "source": [
        "* **Яка форма вихідної матриці $Y$ мережі?**"
      ]
    },
    {
      "cell_type": "markdown",
      "metadata": {
        "id": "19nNGtYFLIcD"
      },
      "source": [
        "$Y$ має розмірність (3 X 1)."
      ]
    },
    {
      "cell_type": "markdown",
      "metadata": {
        "id": "PIe6hUBXLcJw"
      },
      "source": [
        "* **Напишіть рівняння, яке обчислює вихідну матрицю $Y$ мережі як функцію від $X$, $W_h$, $h_b$, $W_0$ та $b_0$.**"
      ]
    },
    {
      "cell_type": "markdown",
      "metadata": {
        "id": "F0YVwCWrLybG"
      },
      "source": [
        "$Y = ReLU(W_0 * ReLU(W_h * X + b_h) + b_0)$"
      ]
    },
    {
      "cell_type": "markdown",
      "metadata": {
        "id": "HOpTYLTwNYNs"
      },
      "source": [
        "**2. Порівняйте точність класифікації нейронної мережі з різними нелінійними функціями активації з точністю класифікації нейронної мережі з лінійною функцією активації.**"
      ]
    },
    {
      "cell_type": "markdown",
      "metadata": {
        "id": "039AiVlzChgc"
      },
      "source": [
        "**Примітка:** для тестів використав датасет Fashion MNIST, попередню обробку даних та схему нейронної мережі взяв з Лекції 3."
      ]
    },
    {
      "cell_type": "code",
      "metadata": {
        "id": "9W_lYAnLDIAd"
      },
      "source": [
        "import numpy as np\n",
        "from sklearn.metrics import accuracy_score\n",
        "import tensorflow as tf\n",
        "import keras\n",
        "import keras.models as M\n",
        "import keras.layers as L\n",
        "import keras.backend as K\n",
        "from keras.utils import np_utils\n",
        "from keras.datasets import mnist"
      ],
      "execution_count": null,
      "outputs": []
    },
    {
      "cell_type": "code",
      "metadata": {
        "id": "cr8DJz8CDabv"
      },
      "source": [
        "(x_train, y_train), (x_val, y_val) = tf.keras.datasets.fashion_mnist.load_data()\n",
        "y_train_oh = keras.utils.np_utils.to_categorical(y_train, 10)\n",
        "y_val_oh = keras.utils.np_utils.to_categorical(y_val, 10)\n",
        "x_train_float = x_train.astype(np.float) / 255 - 0.5\n",
        "x_val_float = x_val.astype(np.float) / 255 - 0.5"
      ],
      "execution_count": null,
      "outputs": []
    },
    {
      "cell_type": "code",
      "metadata": {
        "colab": {
          "base_uri": "https://localhost:8080/"
        },
        "id": "PxwRtblyi9hj",
        "outputId": "9004dd65-32c0-41d9-d93a-eb6bac9d8bfd"
      },
      "source": [
        "activations = ['linear', 'elu', 'sigmoid', 'softmax']\n",
        "\n",
        "for activation in activations:\n",
        "  K.clear_session()\n",
        "  model = M.Sequential()\n",
        "  model.add(L.Dense(784, activation))\n",
        "  model.add(L.Dense(128, activation))\n",
        "  model.add(L.Dense(10, activation))\n",
        "\n",
        "  model.compile(loss='categorical_crossentropy', optimizer='adam', \n",
        "                metrics=['accuracy'])\n",
        "  results = model.fit(x_train_float.reshape(-1, 28*28), y_train_oh, \n",
        "                      batch_size=64, epochs=5, validation_data=\n",
        "                      (x_val_float.reshape(-1, 28*28), y_val_oh))\n",
        "  \n",
        "  print(activation + ', best val_accuracy: ' +\n",
        "        str(max(results.history['val_accuracy'])) + '\\n')"
      ],
      "execution_count": null,
      "outputs": [
        {
          "output_type": "stream",
          "name": "stdout",
          "text": [
            "Epoch 1/5\n",
            "938/938 [==============================] - 8s 8ms/step - loss: 7.5237 - accuracy: 0.2431 - val_loss: 7.9220 - val_accuracy: 0.2494\n",
            "Epoch 2/5\n",
            "938/938 [==============================] - 7s 8ms/step - loss: 7.8683 - accuracy: 0.2496 - val_loss: 8.0429 - val_accuracy: 0.2504\n",
            "Epoch 3/5\n",
            "938/938 [==============================] - 7s 7ms/step - loss: 7.9285 - accuracy: 0.2503 - val_loss: 8.0429 - val_accuracy: 0.2504\n",
            "Epoch 4/5\n",
            "938/938 [==============================] - 7s 8ms/step - loss: 7.9285 - accuracy: 0.2503 - val_loss: 8.0429 - val_accuracy: 0.2504\n",
            "Epoch 5/5\n",
            "938/938 [==============================] - 7s 8ms/step - loss: 7.9285 - accuracy: 0.2503 - val_loss: 8.0429 - val_accuracy: 0.2504\n",
            "linear, best val_accuracy: 0.25040000677108765\n",
            "\n",
            "Epoch 1/5\n",
            "938/938 [==============================] - 8s 8ms/step - loss: 7.8603 - accuracy: 0.3764 - val_loss: 9.7797 - val_accuracy: 0.3574\n",
            "Epoch 2/5\n",
            "938/938 [==============================] - 8s 8ms/step - loss: 9.2688 - accuracy: 0.3475 - val_loss: 8.0961 - val_accuracy: 0.4126\n",
            "Epoch 3/5\n",
            "938/938 [==============================] - 7s 8ms/step - loss: 7.2713 - accuracy: 0.4022 - val_loss: 6.8019 - val_accuracy: 0.4644\n",
            "Epoch 4/5\n",
            "938/938 [==============================] - 7s 8ms/step - loss: 7.3501 - accuracy: 0.4304 - val_loss: 6.8045 - val_accuracy: 0.4366\n",
            "Epoch 5/5\n",
            "938/938 [==============================] - 7s 8ms/step - loss: 5.7379 - accuracy: 0.3926 - val_loss: 4.4212 - val_accuracy: 0.2425\n",
            "elu, best val_accuracy: 0.4643999934196472\n",
            "\n",
            "Epoch 1/5\n",
            "938/938 [==============================] - 8s 8ms/step - loss: 0.5785 - accuracy: 0.7965 - val_loss: 0.4581 - val_accuracy: 0.8346\n",
            "Epoch 2/5\n",
            "938/938 [==============================] - 7s 8ms/step - loss: 0.3998 - accuracy: 0.8546 - val_loss: 0.4027 - val_accuracy: 0.8520\n",
            "Epoch 3/5\n",
            "938/938 [==============================] - 7s 8ms/step - loss: 0.3571 - accuracy: 0.8702 - val_loss: 0.3957 - val_accuracy: 0.8559\n",
            "Epoch 4/5\n",
            "938/938 [==============================] - 7s 8ms/step - loss: 0.3284 - accuracy: 0.8788 - val_loss: 0.3775 - val_accuracy: 0.8612\n",
            "Epoch 5/5\n",
            "938/938 [==============================] - 7s 8ms/step - loss: 0.3053 - accuracy: 0.8872 - val_loss: 0.3468 - val_accuracy: 0.8721\n",
            "sigmoid, best val_accuracy: 0.8720999956130981\n",
            "\n",
            "Epoch 1/5\n",
            "938/938 [==============================] - 8s 8ms/step - loss: 2.0776 - accuracy: 0.3401 - val_loss: 1.6474 - val_accuracy: 0.3827\n",
            "Epoch 2/5\n",
            "938/938 [==============================] - 7s 8ms/step - loss: 1.3769 - accuracy: 0.3909 - val_loss: 1.2494 - val_accuracy: 0.3921\n",
            "Epoch 3/5\n",
            "938/938 [==============================] - 7s 8ms/step - loss: 1.2037 - accuracy: 0.3973 - val_loss: 1.1944 - val_accuracy: 0.3985\n",
            "Epoch 4/5\n",
            "938/938 [==============================] - 7s 8ms/step - loss: 1.1718 - accuracy: 0.4054 - val_loss: 1.1796 - val_accuracy: 0.4039\n",
            "Epoch 5/5\n",
            "938/938 [==============================] - 7s 8ms/step - loss: 1.1508 - accuracy: 0.4275 - val_loss: 1.1392 - val_accuracy: 0.5066\n",
            "softmax, best val_accuracy: 0.506600022315979\n",
            "\n"
          ]
        }
      ]
    },
    {
      "cell_type": "markdown",
      "metadata": {
        "id": "GP4kxm_-LWI9"
      },
      "source": [
        "Бачимо, що нелінійні функції активації забезпечують більшу точність моделі."
      ]
    },
    {
      "cell_type": "markdown",
      "metadata": {
        "id": "3nRcJRHwLgah"
      },
      "source": [
        "**3. Для двошарової нейронної мережі з фіксованою функцією активації $a(x)$ побудуйте графік залежності часу навчання нейронної мережі і точності класифікації від кількості нейронів в прихованому шарі мережі.**\n",
        "<center>$a(x)=\\frac{1}{1 + e^{-x}}$</center>"
      ]
    },
    {
      "cell_type": "markdown",
      "metadata": {
        "id": "TVyvcSYl6G6W"
      },
      "source": [
        "**Примітка:** зазначена функція активації є стандартною функцією sigmoid(x)."
      ]
    },
    {
      "cell_type": "code",
      "metadata": {
        "id": "z1IE-BOxF5-A"
      },
      "source": [
        "import matplotlib.pyplot as plt\n",
        "import time"
      ],
      "execution_count": null,
      "outputs": []
    },
    {
      "cell_type": "code",
      "metadata": {
        "id": "FmGq48caGCGC"
      },
      "source": [
        "class TimeHistory(keras.callbacks.Callback):\n",
        "    def on_train_begin(self, logs={}):\n",
        "        self.times = []\n",
        "\n",
        "    def on_epoch_begin(self, batch, logs={}):\n",
        "        self.epoch_time_start = time.time()\n",
        "\n",
        "    def on_epoch_end(self, batch, logs={}):\n",
        "        self.times.append(time.time() - self.epoch_time_start)"
      ],
      "execution_count": null,
      "outputs": []
    },
    {
      "cell_type": "code",
      "metadata": {
        "id": "fERm4IhuNWgk",
        "colab": {
          "base_uri": "https://localhost:8080/"
        },
        "outputId": "06fbb7a3-5637-4738-902b-753c02a27a63"
      },
      "source": [
        "neurons = range(5, 200, 5)\n",
        "time_callback = TimeHistory()\n",
        "times = []\n",
        "accuracies = []\n",
        "\n",
        "for i in neurons:\n",
        "  K.clear_session()\n",
        "  model = M.Sequential()\n",
        "  model.add(L.Dense(784, activation='sigmoid'))\n",
        "  model.add(L.Dense(i, activation='sigmoid'))\n",
        "  model.add(L.Dense(10, activation='sigmoid'))\n",
        "\n",
        "  model.compile(loss='categorical_crossentropy', optimizer='adam', \n",
        "                metrics=['accuracy'])\n",
        "  results = model.fit(x_train_float.reshape(-1, 28*28), y_train_oh, \n",
        "                      batch_size=64, epochs=1, validation_data=\n",
        "                      (x_val_float.reshape(-1, 28*28), y_val_oh),\n",
        "                      callbacks=[time_callback])\n",
        "  times += time_callback.times\n",
        "  accuracies.append(results.history['val_accuracy'][-1])"
      ],
      "execution_count": null,
      "outputs": [
        {
          "output_type": "stream",
          "name": "stdout",
          "text": [
            "938/938 [==============================] - 6s 7ms/step - loss: 1.4784 - accuracy: 0.6125 - val_loss: 1.1434 - val_accuracy: 0.7175\n",
            "938/938 [==============================] - 7s 7ms/step - loss: 1.1219 - accuracy: 0.7127 - val_loss: 0.7446 - val_accuracy: 0.8023\n",
            "938/938 [==============================] - 7s 7ms/step - loss: 0.8979 - accuracy: 0.7614 - val_loss: 0.5888 - val_accuracy: 0.8177\n",
            "938/938 [==============================] - 6s 6ms/step - loss: 0.7869 - accuracy: 0.7813 - val_loss: 0.5255 - val_accuracy: 0.8250\n",
            "938/938 [==============================] - 7s 7ms/step - loss: 0.7179 - accuracy: 0.7910 - val_loss: 0.4956 - val_accuracy: 0.8303\n",
            "938/938 [==============================] - 7s 7ms/step - loss: 0.6789 - accuracy: 0.7912 - val_loss: 0.4874 - val_accuracy: 0.8292\n",
            "938/938 [==============================] - 7s 7ms/step - loss: 0.6540 - accuracy: 0.7928 - val_loss: 0.4741 - val_accuracy: 0.8357\n",
            "938/938 [==============================] - 7s 7ms/step - loss: 0.6489 - accuracy: 0.7894 - val_loss: 0.4813 - val_accuracy: 0.8284\n",
            "938/938 [==============================] - 7s 7ms/step - loss: 0.6244 - accuracy: 0.7963 - val_loss: 0.4747 - val_accuracy: 0.8308\n",
            "938/938 [==============================] - 7s 7ms/step - loss: 0.6137 - accuracy: 0.7986 - val_loss: 0.5012 - val_accuracy: 0.8178\n",
            "938/938 [==============================] - 7s 7ms/step - loss: 0.6128 - accuracy: 0.7966 - val_loss: 0.4903 - val_accuracy: 0.8232\n",
            "938/938 [==============================] - 7s 7ms/step - loss: 0.5955 - accuracy: 0.8007 - val_loss: 0.4817 - val_accuracy: 0.8282\n",
            "938/938 [==============================] - 7s 7ms/step - loss: 0.5948 - accuracy: 0.7994 - val_loss: 0.4682 - val_accuracy: 0.8356\n",
            "938/938 [==============================] - 7s 7ms/step - loss: 0.5926 - accuracy: 0.7990 - val_loss: 0.4916 - val_accuracy: 0.8219\n",
            "938/938 [==============================] - 7s 8ms/step - loss: 0.5919 - accuracy: 0.8000 - val_loss: 0.4703 - val_accuracy: 0.8307\n",
            "938/938 [==============================] - 7s 7ms/step - loss: 0.5945 - accuracy: 0.7936 - val_loss: 0.4771 - val_accuracy: 0.8355\n",
            "938/938 [==============================] - 7s 7ms/step - loss: 0.5869 - accuracy: 0.7979 - val_loss: 0.5037 - val_accuracy: 0.8129\n",
            "938/938 [==============================] - 7s 7ms/step - loss: 0.5784 - accuracy: 0.8013 - val_loss: 0.4709 - val_accuracy: 0.8271\n",
            "938/938 [==============================] - 7s 7ms/step - loss: 0.5787 - accuracy: 0.7998 - val_loss: 0.4902 - val_accuracy: 0.8225\n",
            "938/938 [==============================] - 7s 7ms/step - loss: 0.5822 - accuracy: 0.7987 - val_loss: 0.4533 - val_accuracy: 0.8406\n",
            "938/938 [==============================] - 7s 8ms/step - loss: 0.5754 - accuracy: 0.7998 - val_loss: 0.4655 - val_accuracy: 0.8328\n",
            "938/938 [==============================] - 8s 8ms/step - loss: 0.5719 - accuracy: 0.8014 - val_loss: 0.4572 - val_accuracy: 0.8374\n",
            "938/938 [==============================] - 8s 8ms/step - loss: 0.5712 - accuracy: 0.8024 - val_loss: 0.5078 - val_accuracy: 0.8117\n",
            "938/938 [==============================] - 8s 8ms/step - loss: 0.5762 - accuracy: 0.7969 - val_loss: 0.4622 - val_accuracy: 0.8327\n",
            "938/938 [==============================] - 8s 8ms/step - loss: 0.5749 - accuracy: 0.7977 - val_loss: 0.4630 - val_accuracy: 0.8314\n",
            "938/938 [==============================] - 8s 8ms/step - loss: 0.5730 - accuracy: 0.7998 - val_loss: 0.4788 - val_accuracy: 0.8253\n",
            "938/938 [==============================] - 8s 8ms/step - loss: 0.5701 - accuracy: 0.7987 - val_loss: 0.4574 - val_accuracy: 0.8407\n",
            "938/938 [==============================] - 8s 8ms/step - loss: 0.5758 - accuracy: 0.7985 - val_loss: 0.4708 - val_accuracy: 0.8327\n",
            "938/938 [==============================] - 8s 8ms/step - loss: 0.5608 - accuracy: 0.8034 - val_loss: 0.4673 - val_accuracy: 0.8330\n",
            "938/938 [==============================] - 8s 8ms/step - loss: 0.5705 - accuracy: 0.8011 - val_loss: 0.4730 - val_accuracy: 0.8271\n",
            "938/938 [==============================] - 8s 8ms/step - loss: 0.5657 - accuracy: 0.8007 - val_loss: 0.4715 - val_accuracy: 0.8318\n",
            "938/938 [==============================] - 8s 8ms/step - loss: 0.5707 - accuracy: 0.7983 - val_loss: 0.4690 - val_accuracy: 0.8249\n",
            "938/938 [==============================] - 8s 8ms/step - loss: 0.5659 - accuracy: 0.7988 - val_loss: 0.4818 - val_accuracy: 0.8257\n",
            "938/938 [==============================] - 8s 8ms/step - loss: 0.5628 - accuracy: 0.7988 - val_loss: 0.4518 - val_accuracy: 0.8343\n",
            "938/938 [==============================] - 8s 8ms/step - loss: 0.5693 - accuracy: 0.7983 - val_loss: 0.4589 - val_accuracy: 0.8336\n",
            "938/938 [==============================] - 8s 8ms/step - loss: 0.5587 - accuracy: 0.8025 - val_loss: 0.4433 - val_accuracy: 0.8419\n",
            "938/938 [==============================] - 8s 8ms/step - loss: 0.5696 - accuracy: 0.7982 - val_loss: 0.4514 - val_accuracy: 0.8371\n",
            "938/938 [==============================] - 8s 9ms/step - loss: 0.5612 - accuracy: 0.8013 - val_loss: 0.4563 - val_accuracy: 0.8328\n",
            "938/938 [==============================] - 8s 8ms/step - loss: 0.5628 - accuracy: 0.7993 - val_loss: 0.4486 - val_accuracy: 0.8381\n"
          ]
        }
      ]
    },
    {
      "cell_type": "code",
      "metadata": {
        "colab": {
          "base_uri": "https://localhost:8080/",
          "height": 513
        },
        "id": "tjzfFaCpuuHM",
        "outputId": "9ee72634-4bd0-4c4e-dda1-39240d8c265b"
      },
      "source": [
        "plt.plot(neurons, times, label='time (s)')\n",
        "plt.legend()\n",
        "plt.show()\n",
        "\n",
        "plt.plot(neurons, accuracies, label='accuracy')\n",
        "plt.legend()\n",
        "plt.show()"
      ],
      "execution_count": null,
      "outputs": [
        {
          "output_type": "display_data",
          "data": {
            "image/png": "[encoded data removed]",
            "text/plain": [
              "<Figure size 432x288 with 1 Axes>"
            ]
          },
          "metadata": {
            "needs_background": "light"
          }
        },
        {
          "output_type": "display_data",
          "data": {
            "image/png": "[encoded data removed]",
            "text/plain": [
              "<Figure size 432x288 with 1 Axes>"
            ]
          },
          "metadata": {
            "needs_background": "light"
          }
        }
      ]
    },
    {
      "cell_type": "markdown",
      "metadata": {
        "id": "ZDQafd2hLMG9"
      },
      "source": [
        "**4. Побудуйте графік залежності часу навчання нейронної мережі і точності класифікації від кількості прихованих шарів (всі приховані шари однакового розміру) для багатошарової нейронної мережі з фіксованою функцією активації $a(x)$.**\n",
        "<center>$a(x)=th(x)=\\frac{e^{x} - e^{-x}}{e^{x} + e^{-x}}$</center>"
      ]
    },
    {
      "cell_type": "code",
      "metadata": {
        "colab": {
          "base_uri": "https://localhost:8080/"
        },
        "id": "92Qf6htwMAg2",
        "outputId": "1608517e-b66e-4f6c-ce75-2502cbf84142"
      },
      "source": [
        "neurons_in_layer = 50\n",
        "layers = range(1, 20)\n",
        "time_callback = TimeHistory()\n",
        "times = []\n",
        "accuracies = []\n",
        "\n",
        "for i in layers:\n",
        "  K.clear_session()\n",
        "  model = M.Sequential()\n",
        "  model.add(L.Dense(784, activation='tanh'))\n",
        "  for j in range(0, i):\n",
        "    model.add(L.Dense(neurons_in_layer, activation='tanh'))\n",
        "  model.add(L.Dense(10, activation='tanh'))\n",
        "\n",
        "  model.compile(loss='categorical_crossentropy', optimizer='adam', \n",
        "                metrics=['accuracy'])\n",
        "  results = model.fit(x_train_float.reshape(-1, 28*28), y_train_oh, \n",
        "                      batch_size=64, epochs=1, validation_data=\n",
        "                      (x_val_float.reshape(-1, 28*28), y_val_oh),\n",
        "                      callbacks=[time_callback])\n",
        "  times += time_callback.times\n",
        "  accuracies.append(results.history['val_accuracy'][-1])"
      ],
      "execution_count": null,
      "outputs": [
        {
          "output_type": "stream",
          "name": "stdout",
          "text": [
            "938/938 [==============================] - 7s 7ms/step - loss: 8.4299 - accuracy: 0.1079 - val_loss: 8.8787 - val_accuracy: 0.0610\n",
            "938/938 [==============================] - 7s 7ms/step - loss: 8.1441 - accuracy: 0.1452 - val_loss: 8.5157 - val_accuracy: 0.1046\n",
            "938/938 [==============================] - 7s 7ms/step - loss: 8.0407 - accuracy: 0.1054 - val_loss: 8.0800 - val_accuracy: 0.1025\n",
            "938/938 [==============================] - 8s 7ms/step - loss: 8.4552 - accuracy: 0.1093 - val_loss: 8.4800 - val_accuracy: 0.1000\n",
            "938/938 [==============================] - 8s 7ms/step - loss: 8.3292 - accuracy: 0.1373 - val_loss: 10.0015 - val_accuracy: 0.0924\n",
            "938/938 [==============================] - 8s 8ms/step - loss: 8.7855 - accuracy: 0.1037 - val_loss: 9.6499 - val_accuracy: 0.1000\n",
            "938/938 [==============================] - 8s 8ms/step - loss: 8.0559 - accuracy: 0.0982 - val_loss: 8.0494 - val_accuracy: 0.0999\n",
            "938/938 [==============================] - 8s 8ms/step - loss: 8.3142 - accuracy: 0.1076 - val_loss: 8.0590 - val_accuracy: 0.1000\n",
            "938/938 [==============================] - 8s 8ms/step - loss: 9.4371 - accuracy: 0.1011 - val_loss: 9.6693 - val_accuracy: 0.1000\n",
            "938/938 [==============================] - 9s 8ms/step - loss: 8.0407 - accuracy: 0.1004 - val_loss: 8.0607 - val_accuracy: 0.1001\n",
            "938/938 [==============================] - 9s 8ms/step - loss: 6.5015 - accuracy: 0.1013 - val_loss: 6.4472 - val_accuracy: 0.0995\n",
            "938/938 [==============================] - 9s 8ms/step - loss: 8.0961 - accuracy: 0.1083 - val_loss: 8.0590 - val_accuracy: 0.1000\n",
            "938/938 [==============================] - 9s 9ms/step - loss: 6.4909 - accuracy: 0.1048 - val_loss: 6.4489 - val_accuracy: 0.1061\n",
            "938/938 [==============================] - 9s 9ms/step - loss: 8.0636 - accuracy: 0.0999 - val_loss: 8.0590 - val_accuracy: 0.1000\n",
            "938/938 [==============================] - 9s 9ms/step - loss: 7.9551 - accuracy: 0.0991 - val_loss: 8.0607 - val_accuracy: 0.0998\n",
            "938/938 [==============================] - 10s 9ms/step - loss: 6.6691 - accuracy: 0.0972 - val_loss: 6.4472 - val_accuracy: 0.1000\n",
            "938/938 [==============================] - 9s 9ms/step - loss: 8.1276 - accuracy: 0.1001 - val_loss: 8.1267 - val_accuracy: 0.1002\n",
            "938/938 [==============================] - 10s 9ms/step - loss: 7.7710 - accuracy: 0.0992 - val_loss: 8.0590 - val_accuracy: 0.1000\n",
            "938/938 [==============================] - 10s 9ms/step - loss: 8.0574 - accuracy: 0.1003 - val_loss: 8.0574 - val_accuracy: 0.1002\n"
          ]
        }
      ]
    },
    {
      "cell_type": "code",
      "metadata": {
        "colab": {
          "base_uri": "https://localhost:8080/",
          "height": 513
        },
        "id": "MWXnfsNANHhs",
        "outputId": "c0a4fc33-caa7-49ea-ee1b-8892598902c5"
      },
      "source": [
        "plt.plot(layers, times, label='time (s)')\n",
        "plt.legend()\n",
        "plt.show()\n",
        "\n",
        "plt.plot(layers, accuracies, label='accuracy')\n",
        "plt.legend()\n",
        "plt.show()"
      ],
      "execution_count": null,
      "outputs": [
        {
          "output_type": "display_data",
          "data": {
            "image/png": "[encoded data removed]",
            "text/plain": [
              "<Figure size 432x288 with 1 Axes>"
            ]
          },
          "metadata": {
            "needs_background": "light"
          }
        },
        {
          "output_type": "display_data",
          "data": {
            "image/png": "[encoded data removed]",
            "text/plain": [
              "<Figure size 432x288 with 1 Axes>"
            ]
          },
          "metadata": {
            "needs_background": "light"
          }
        }
      ]
    }
  ]
}